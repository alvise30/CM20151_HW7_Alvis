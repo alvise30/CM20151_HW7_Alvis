{
 "metadata": {
  "name": "",
  "signature": "sha256:0d0d6e1bcfd8747d8dba8c457cd9d170eae8782f4c17fc375f6d9aadf9371439"
 },
 "nbformat": 3,
 "nbformat_minor": 0,
 "worksheets": [
  {
   "cells": [
    {
     "cell_type": "markdown",
     "metadata": {},
     "source": [
      "#Punto 2b)"
     ]
    },
    {
     "cell_type": "code",
     "collapsed": false,
     "input": [
      "%pylab inline\n",
      "import pandas as pd"
     ],
     "language": "python",
     "metadata": {},
     "outputs": [
      {
       "output_type": "stream",
       "stream": "stdout",
       "text": [
        "Populating the interactive namespace from numpy and matplotlib\n"
       ]
      }
     ],
     "prompt_number": 1
    },
    {
     "cell_type": "code",
     "collapsed": false,
     "input": [
      "#Cargamos los archivos del punto anterior\n",
      "lin = pd.read_table('lineal.txt')\n",
      "gauss = pd.read_table('lineal_gaussiano.txt')\n",
      "paso = pd.read_table('lineal_paso.txt')"
     ],
     "language": "python",
     "metadata": {},
     "outputs": [],
     "prompt_number": 4
    },
    {
     "cell_type": "code",
     "collapsed": false,
     "input": [
      "likelihoods=[]"
     ],
     "language": "python",
     "metadata": {},
     "outputs": [],
     "prompt_number": 5
    },
    {
     "cell_type": "code",
     "collapsed": false,
     "input": [
      "lin.iloc[2]"
     ],
     "language": "python",
     "metadata": {},
     "outputs": [
      {
       "metadata": {},
       "output_type": "pyout",
       "prompt_number": 6,
       "text": [
        "Observaci\u00f3n      Obser_0_0\n",
        "Mejor Ajuste      680.3665\n",
        "Par\u00e1metro       Likelihood\n",
        "Name: 2, dtype: object"
       ]
      }
     ],
     "prompt_number": 6
    },
    {
     "cell_type": "code",
     "collapsed": false,
     "input": [
      "#Funci\u00f3n para extraer los valores d elos likelihoods del archivo que pasa como par\u00e1metro\n",
      "def ext_llh(lin):\n",
      "    likelihoods=[]\n",
      "    for i in range(len(lin.iloc[:,2])):   \n",
      "        if lin.iloc[i,2] == 'Likelihood':\n",
      "          likelihoods.append(lin.iloc[i,1])\n",
      "    return likelihoods"
     ],
     "language": "python",
     "metadata": {},
     "outputs": [],
     "prompt_number": 7
    },
    {
     "cell_type": "code",
     "collapsed": false,
     "input": [
      "#Funci\u00f3n para decidir cu\u00e1l likelihood es mejor para cada una de las observaciones \u00a1\u00a1\u00a1\u00a1DEFECTOS!!!\n",
      "def big_llh(llh_lin, llh_gauss, llh_paso):\n",
      "    if llh_lin[:] >= llh_gauss[:]:\n",
      "        if llh_lin[:] >= llh_paso[:]:\n",
      "            return llh_lin[:]\n",
      "        else:\n",
      "            return llh_paso[:]\n",
      "    elif llh_gauss[:] >= llh_paso[:]:\n",
      "        return llh_gauss[:]\n",
      "    else:\n",
      "        return llh_paso[:]"
     ],
     "language": "python",
     "metadata": {},
     "outputs": [],
     "prompt_number": 8
    },
    {
     "cell_type": "code",
     "collapsed": false,
     "input": [
      "#Guardamos los resultados de la funci\u00f3n big_llh en un arreglo \u00a1\u00a1\u00a1DEFECTO!!!\n",
      "tmp1 = big_llh(llh_lin, llh_gauss, llh_paso)"
     ],
     "language": "python",
     "metadata": {},
     "outputs": [
      {
       "ename": "NameError",
       "evalue": "name 'llh_lin' is not defined",
       "output_type": "pyerr",
       "traceback": [
        "\u001b[0;31m---------------------------------------------------------------------------\u001b[0m\n\u001b[0;31mNameError\u001b[0m                                 Traceback (most recent call last)",
        "\u001b[0;32m<ipython-input-9-c79073df62b9>\u001b[0m in \u001b[0;36m<module>\u001b[0;34m()\u001b[0m\n\u001b[1;32m      1\u001b[0m \u001b[0;31m#Guardamos los resultados de la funci\u00f3n big_llh en un arreglo \u00a1\u00a1\u00a1DEFECTO!!!\u001b[0m\u001b[0;34m\u001b[0m\u001b[0;34m\u001b[0m\u001b[0m\n\u001b[0;32m----> 2\u001b[0;31m \u001b[0mtmp1\u001b[0m \u001b[0;34m=\u001b[0m \u001b[0mbig_llh\u001b[0m\u001b[0;34m(\u001b[0m\u001b[0mllh_lin\u001b[0m\u001b[0;34m,\u001b[0m \u001b[0mllh_gauss\u001b[0m\u001b[0;34m,\u001b[0m \u001b[0mllh_paso\u001b[0m\u001b[0;34m)\u001b[0m\u001b[0;34m\u001b[0m\u001b[0m\n\u001b[0m",
        "\u001b[0;31mNameError\u001b[0m: name 'llh_lin' is not defined"
       ]
      }
     ],
     "prompt_number": 9
    },
    {
     "cell_type": "code",
     "collapsed": false,
     "input": [
      "#Extraemos los valores de los likehoods de los archivos\n",
      "llh_lin = ext_llh(lin)\n",
      "llh_gauss = ext_llh(gauss)\n",
      "llh_paso = ext_llh(paso)"
     ],
     "language": "python",
     "metadata": {},
     "outputs": [],
     "prompt_number": 11
    },
    {
     "cell_type": "code",
     "collapsed": false,
     "input": [
      "#Vereficiamos\n",
      "print llh_lin\n",
      "print llh_gauss\n",
      "print llh_paso"
     ],
     "language": "python",
     "metadata": {},
     "outputs": [
      {
       "output_type": "stream",
       "stream": "stdout",
       "text": [
        "[680.36649463900005, 466.35828372999998, 809.20565358199997, 820.64289826300001]\n",
        "[680.36789421900005, 466.35848537800001, 809.20585425399997, 820.64332856600004]\n",
        "[549.025567658, 366.91751106599997, 322.706089222, 819.40935958900002]\n"
       ]
      }
     ],
     "prompt_number": 12
    },
    {
     "cell_type": "code",
     "collapsed": false,
     "input": [
      "#Comparamos los likelihoods entre ellos para saber cual es el mejor ajuste a los datos en cada una de las situaciones\n",
      "tmp=[]\n",
      "for i in range(len(llh_lin)):\n",
      "    if llh_lin[i] >= llh_gauss[i]:\n",
      "        if llh_lin[i] >= llh_paso[i]:\n",
      "            tmp.append(1)\n",
      "        else:\n",
      "            tmp.append(3)\n",
      "    elif llh_gauss[i] >= llh_paso[i]:\n",
      "        tmp.append(2)\n",
      "    else:\n",
      "        tmp.append(3)"
     ],
     "language": "python",
     "metadata": {},
     "outputs": [],
     "prompt_number": 14
    },
    {
     "cell_type": "code",
     "collapsed": false,
     "input": [
      "fileout = open('bestmodels.txt', 'w')\n",
      "fileout.write('Observaci\u00f3n\\tModelo\\tMejor Ajuste\\tPar\u00e1metro\\n')\n",
      "fileout.close()\n",
      "\n",
      "for i in range(0,(len(lin.iloc[:,0])),3):\n",
      "    for element in tmp:\n",
      "        if element == 1:\n",
      "            #Escribir el archivo\n",
      "            fileout = open('bestmodels.txt', 'a')            \n",
      "            fileout.write(str(lin.iloc[i+0,0])+ '\\tLineal\\t' + str(lin.iloc[i+0,1]) + '\\t' + str(lin.iloc[i+0,2]) + '\\n' + \n",
      "                          str(lin.iloc[i+1,0])+ '\\tLineal\\t' + str(lin.iloc[i+1,1]) + '\\t' + str(lin.iloc[i+1,2]) + '\\n' +\n",
      "                          str(lin.iloc[i+2,0])+ '\\tLineal\\t' + str(lin.iloc[i+2,1]) + '\\t' + str(lin.iloc[i+2,2]) + '\\n')\n",
      "            fileout.close()\n",
      "        elif element == 2:\n",
      "            #Escribir el archivo\n",
      "            fileout = open('bestmodels.txt', 'a')            \n",
      "            fileout.write(str(lin.iloc[i+0,0])+ '\\tLineal Gaussiano\\t' + str(lin.iloc[i+0,1]) + '\\t' + str(lin.iloc[i+0,2]) + '\\n' + \n",
      "                          str(lin.iloc[i+1,0])+ '\\tLineal Gaussiano\\t' + str(lin.iloc[i+1,1]) + '\\t' + str(lin.iloc[i+1,2]) + '\\n' +\n",
      "                          str(lin.iloc[i+2,0])+ '\\tLineal Gaussiano\\t' + str(lin.iloc[i+2,1]) + '\\t' + str(lin.iloc[i+2,2]) + '\\n' +\n",
      "                          str(lin.iloc[i+3,0])+ '\\tLineal Gaussiano\\t' + str(lin.iloc[i+2,1]) + '\\t' + str(lin.iloc[i+3,2]) + '\\n' +\n",
      "                          str(lin.iloc[i+4,0])+ '\\tLineal Gaussiano\\t' + str(lin.iloc[i+2,1]) + '\\t' + str(lin.iloc[i+4,2]) + '\\n')\n",
      "            fileout.close()\n",
      "        elif element == 3:\n",
      "            #Escribir el archivo\n",
      "            fileout = open('bestmodels.txt', 'a')            \n",
      "            fileout.write(str(lin.iloc[i+0,0])+ '\\tLineal Paso\\t' + str(lin.iloc[i+0,1]) + '\\t' + str(lin.iloc[i+0,2]) + '\\n' + \n",
      "                          str(lin.iloc[i+1,0])+ '\\tLineal Paso\\t' + str(lin.iloc[i+1,1]) + '\\t' + str(lin.iloc[i+1,2]) + '\\n' +\n",
      "                          str(lin.iloc[i+2,0])+ '\\tLineal Paso\\t' + str(lin.iloc[i+2,1]) + '\\t' + str(lin.iloc[i+2,2]) + '\\n' +\n",
      "                          str(lin.iloc[i+3,0])+ '\\tLineal Paso\\t' + str(lin.iloc[i+3,1]) + '\\t' + str(lin.iloc[i+3,2]) + '\\n' +\n",
      "                          str(lin.iloc[i+4,0])+ '\\tLineal Paso\\t' + str(lin.iloc[i+4,1]) + '\\t' + str(lin.iloc[i+4,2]) + '\\n' +\n",
      "                          str(lin.iloc[i+5,0])+ '\\tLineal Paso\\t' + str(lin.iloc[i+5,1]) + '\\t' + str(lin.iloc[i+5,2]) + '\\n')\n",
      "            fileout.close()            "
     ],
     "language": "python",
     "metadata": {},
     "outputs": [],
     "prompt_number": 15
    },
    {
     "cell_type": "code",
     "collapsed": false,
     "input": [],
     "language": "python",
     "metadata": {},
     "outputs": []
    },
    {
     "cell_type": "code",
     "collapsed": false,
     "input": [
      "print len(lin.iloc[:,0])"
     ],
     "language": "python",
     "metadata": {},
     "outputs": [
      {
       "output_type": "stream",
       "stream": "stdout",
       "text": [
        "12\n"
       ]
      }
     ],
     "prompt_number": 16
    },
    {
     "cell_type": "code",
     "collapsed": false,
     "input": [
      "#Graficar\n",
      "scatter(x_obs,y_obs[:,i,j])\n",
      "plot(x_obs, best_y)\n",
      "show()"
     ],
     "language": "python",
     "metadata": {},
     "outputs": [
      {
       "ename": "NameError",
       "evalue": "name 'x_obs' is not defined",
       "output_type": "pyerr",
       "traceback": [
        "\u001b[0;31m---------------------------------------------------------------------------\u001b[0m\n\u001b[0;31mNameError\u001b[0m                                 Traceback (most recent call last)",
        "\u001b[0;32m<ipython-input-17-f465bf0e05e7>\u001b[0m in \u001b[0;36m<module>\u001b[0;34m()\u001b[0m\n\u001b[1;32m      1\u001b[0m \u001b[0;31m#Graficar\u001b[0m\u001b[0;34m\u001b[0m\u001b[0;34m\u001b[0m\u001b[0m\n\u001b[0;32m----> 2\u001b[0;31m \u001b[0mscatter\u001b[0m\u001b[0;34m(\u001b[0m\u001b[0mx_obs\u001b[0m\u001b[0;34m,\u001b[0m\u001b[0my_obs\u001b[0m\u001b[0;34m[\u001b[0m\u001b[0;34m:\u001b[0m\u001b[0;34m,\u001b[0m\u001b[0mi\u001b[0m\u001b[0;34m,\u001b[0m\u001b[0mj\u001b[0m\u001b[0;34m]\u001b[0m\u001b[0;34m)\u001b[0m\u001b[0;34m\u001b[0m\u001b[0m\n\u001b[0m\u001b[1;32m      3\u001b[0m \u001b[0mplot\u001b[0m\u001b[0;34m(\u001b[0m\u001b[0mx_obs\u001b[0m\u001b[0;34m,\u001b[0m \u001b[0mbest_y\u001b[0m\u001b[0;34m)\u001b[0m\u001b[0;34m\u001b[0m\u001b[0m\n\u001b[1;32m      4\u001b[0m \u001b[0mshow\u001b[0m\u001b[0;34m(\u001b[0m\u001b[0;34m)\u001b[0m\u001b[0;34m\u001b[0m\u001b[0m\n",
        "\u001b[0;31mNameError\u001b[0m: name 'x_obs' is not defined"
       ]
      }
     ],
     "prompt_number": 17
    },
    {
     "cell_type": "code",
     "collapsed": false,
     "input": [],
     "language": "python",
     "metadata": {},
     "outputs": []
    }
   ],
   "metadata": {}
  }
 ]
}