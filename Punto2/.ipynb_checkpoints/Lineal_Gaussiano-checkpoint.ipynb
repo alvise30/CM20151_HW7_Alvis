{
 "metadata": {
  "name": "",
  "signature": "sha256:160fb871d75444016ace7f7763e801dfc8e642c125728f634f3884dbfc1a5ef9"
 },
 "nbformat": 3,
 "nbformat_minor": 0,
 "worksheets": [
  {
   "cells": [
    {
     "cell_type": "markdown",
     "metadata": {},
     "source": [
      "##Punto 2 - Ajuste lineal"
     ]
    },
    {
     "cell_type": "code",
     "collapsed": false,
     "input": [
      "%pylab inline\n",
      "import pyfits\n",
      "import pandas as pd"
     ],
     "language": "python",
     "metadata": {},
     "outputs": [
      {
       "output_type": "stream",
       "stream": "stdout",
       "text": [
        "Populating the interactive namespace from numpy and matplotlib\n"
       ]
      }
     ],
     "prompt_number": 1
    },
    {
     "cell_type": "markdown",
     "metadata": {},
     "source": [
      "###Funciones"
     ]
    },
    {
     "cell_type": "code",
     "collapsed": false,
     "input": [
      "#Funci\u00f3n para graficar (coordenada temporal sin unidades)\n",
      "def gsenzat(data,i,j):\n",
      "    test = data[:,i,j]\n",
      "\n",
      "    x = linspace(0, 397, 398)\n",
      "    y = linspace(0, 198, 199)\n",
      "    z = linspace(0, 206, 207)\n",
      "\n",
      "    plot(z, test)\n",
      "    xlabel(\"Coordenada Temporal sin Unidades\")\n",
      "    ylabel(\"Campo Magenitco [Gauss]\")"
     ],
     "language": "python",
     "metadata": {},
     "outputs": [],
     "prompt_number": 2
    },
    {
     "cell_type": "code",
     "collapsed": false,
     "input": [
      "#Esta funci\u00f3n convierte de segundos a minutos donde sea necesario; luego suma los intervalos para crear continuidad en el tiempo\n",
      "def prep_time(times): \n",
      "    tmp = times.copy()    \n",
      "    #Pasamos de segundos a minutos donde sea necesario.\n",
      "    t = where(tmp==45.)\n",
      "    for i in t:\n",
      "        tmp[i] = tmp[i]/60.\n",
      "        \n",
      "    #Pasamos a horas.    \n",
      "    for k in range(len(tmp)):\n",
      "       tmp[k] = tmp[k]/60.\n",
      "        \n",
      "    #Sumamos los intervalos\n",
      "    for j in range(len(times)-1):\n",
      "       tmp[j+1] = tmp[j] + tmp[j+1]\n",
      "    return tmp"
     ],
     "language": "python",
     "metadata": {},
     "outputs": [],
     "prompt_number": 3
    },
    {
     "cell_type": "code",
     "collapsed": false,
     "input": [
      "#Funci\u00f3n para graficar con la escala temporal ajustada (horas)\n",
      "def gcont(data, times, i, j):\n",
      "    test = data[:,i,j]\n",
      "\n",
      "    x = linspace(0, 397, 398)\n",
      "    y = linspace(0, 198, 199)\n",
      "    z = linspace(0, 206, 207)\n",
      " \n",
      "    #Redimencionamos la coordenada temporal\n",
      "    tmp = prep_time(times) #Preparamos los tiempos\n",
      "        \n",
      "    plot(tmp, test)\n",
      "    xlabel(\"Tiempo[horas]\")\n",
      "    ylabel(\"Campo Magenitco [Gauss]\")\n",
      "    show()\n",
      "    scatter(tmp, test)\n",
      "    xlabel(\"Tiempo[horas]\")\n",
      "    ylabel(\"Campo Magenitco [Gauss]\")\n",
      "    #xlim(-100,)\n",
      "    show()\n",
      "    return tmp"
     ],
     "language": "python",
     "metadata": {},
     "outputs": [],
     "prompt_number": 4
    },
    {
     "cell_type": "markdown",
     "metadata": {},
     "source": [
      "###Cargar y leer los datos"
     ]
    },
    {
     "cell_type": "code",
     "collapsed": false,
     "input": [
      "#Leemos el FITS\n",
      "hdulist = pyfits.open('hmi.m_45s.magnetogram.subregion_x1y1.fits')\n",
      "#Cargamos el archivo que contiene los intervalos de medici\u00f3n\n",
      "timesfile = pd.read_table('intervalos.txt')"
     ],
     "language": "python",
     "metadata": {},
     "outputs": [],
     "prompt_number": 5
    },
    {
     "cell_type": "code",
     "collapsed": false,
     "input": [
      "hdulist.info() # obtener informaci\u00f3n detallada del contenido del FITS"
     ],
     "language": "python",
     "metadata": {},
     "outputs": [
      {
       "output_type": "stream",
       "stream": "stdout",
       "text": [
        "Filename: hmi.m_45s.magnetogram.subregion_x1y1.fits\n",
        "No.    Name         Type      Cards   Dimensions   Format\n",
        "0    PRIMARY     PrimaryHDU     121   (398, 199, 207)   float32   \n"
       ]
      }
     ],
     "prompt_number": 6
    },
    {
     "cell_type": "code",
     "collapsed": false,
     "input": [
      "#Extraemos los datos del fichero FITS\n",
      "data = hdulist[0].data\n",
      "#Extraemos la informaci\u00f3n .txt\n",
      "times = timesfile['Intervalo']"
     ],
     "language": "python",
     "metadata": {},
     "outputs": [],
     "prompt_number": 7
    },
    {
     "cell_type": "code",
     "collapsed": false,
     "input": [
      "#Miramos los ejes de los datos extraidos (Ohh!! x & z est\u00e1n intercambiados ;))\n",
      "print shape(data) "
     ],
     "language": "python",
     "metadata": {},
     "outputs": [
      {
       "output_type": "stream",
       "stream": "stdout",
       "text": [
        "(207, 199, 398)\n"
       ]
      }
     ],
     "prompt_number": 8
    },
    {
     "cell_type": "code",
     "collapsed": false,
     "input": [
      "#Cerramos el archivo (Le\u00ed que porq ocupa mucho espacio en la memorio y puede entorpecer los procesos)\n",
      "hdulist.close()"
     ],
     "language": "python",
     "metadata": {},
     "outputs": [],
     "prompt_number": 9
    },
    {
     "cell_type": "markdown",
     "metadata": {},
     "source": [
      "###Graficamos para tener una idea de los datos"
     ]
    },
    {
     "cell_type": "markdown",
     "metadata": {},
     "source": [
      "Ya hemos extraido todos los datos; solo resta aplicar las funciones.  \n",
      "Comenzamos con la escala sin unidades"
     ]
    },
    {
     "cell_type": "code",
     "collapsed": false,
     "input": [
      "gsenzat(data,138,241)"
     ],
     "language": "python",
     "metadata": {},
     "outputs": [
      {
       "metadata": {},
       "output_type": "display_data",
       "png": "[encoded data removed]",
       "text": [
        "<matplotlib.figure.Figure at 0xaf0a790c>"
       ]
      }
     ],
     "prompt_number": 10
    },
    {
     "cell_type": "code",
     "collapsed": false,
     "input": [
      "ztimes = gcont(data,times,138,241)"
     ],
     "language": "python",
     "metadata": {},
     "outputs": [
      {
       "metadata": {},
       "output_type": "display_data",
       "png": "[encoded data removed]",
       "text": [
        "<matplotlib.figure.Figure at 0xaf5c0d4c>"
       ]
      },
      {
       "metadata": {},
       "output_type": "display_data",
       "png": "[encoded data removed]",
       "text": [
        "<matplotlib.figure.Figure at 0xb645a4cc>"
       ]
      }
     ],
     "prompt_number": 11
    },
    {
     "cell_type": "markdown",
     "metadata": {},
     "source": [
      "##Implementamos las caminatas para lograr el mejor ajuste con el modelo LINEAL GAUSSIANO"
     ]
    },
    {
     "cell_type": "code",
     "collapsed": false,
     "input": [
      "#Cargamos los datos y definimos x_obs y y_obs\n",
      "test = data[:,138:140,241:243]\n",
      "x_obs = ztimes\n",
      "y_obs = test\n",
      "#y_obs[:,0,0]"
     ],
     "language": "python",
     "metadata": {},
     "outputs": [],
     "prompt_number": 12
    },
    {
     "cell_type": "code",
     "collapsed": false,
     "input": [
      "scatter(x_obs,y_obs[:,0,0])"
     ],
     "language": "python",
     "metadata": {},
     "outputs": [
      {
       "metadata": {},
       "output_type": "pyout",
       "prompt_number": 13,
       "text": [
        "<matplotlib.collections.PathCollection at 0xaef9c28c>"
       ]
      },
      {
       "metadata": {},
       "output_type": "display_data",
       "png": "[encoded data removed]",
       "text": [
        "<matplotlib.figure.Figure at 0xaee79ccc>"
       ]
      }
     ],
     "prompt_number": 13
    },
    {
     "cell_type": "code",
     "collapsed": false,
     "input": [
      "#Prestar mucha atenci\u00f3n aqu\u00ed definir la forma de la ecuaci\u00f3n.\n",
      "def likelihood(y_obs, y_model):\n",
      "    chi_squared = (1.0/2.0)*sum(((y_obs-y_model)/y_model)**2)\n",
      "    return -chi_squared"
     ],
     "language": "python",
     "metadata": {},
     "outputs": [],
     "prompt_number": 33
    },
    {
     "cell_type": "code",
     "collapsed": false,
     "input": [
      "#Modelo lineal Gaussiano\n",
      "def linear_gauss_model(x_obs, a, b, c, d):\n",
      "    return a + b*x_obs + 1/(c*sqrt(2*pi)) * exp((-0.5)*((x_obs-d)*c)**2)"
     ],
     "language": "python",
     "metadata": {},
     "outputs": [],
     "prompt_number": 34
    },
    {
     "cell_type": "code",
     "collapsed": false,
     "input": [
      "def inicializar(x_obs, y_obs,i,j):\n",
      "    a_walk = empty((0)) #this is an empty list to keep all the steps\n",
      "    b_walk = empty((0))\n",
      "    c_walk = empty((0))\n",
      "    d_walk = empty((0)) \n",
      "    l_walk = empty((0))\n",
      "\n",
      "    #randrange(start, stop[, step])\n",
      "\n",
      "    a_walk = append(a_walk, 100) #ATENCI\u00d3N!! Mirar que tipo de generador de nuemeros aleatoreas debe usarse\n",
      "    b_walk = append(b_walk, 0.5)\n",
      "    c_walk = append(c_walk, 40)\n",
      "    d_walk = append(d_walk, 100)    \n",
      "\n",
      "    y_init = linear_gauss_model(x_obs, a_walk[0], b_walk[0], c_walk[0], d_walk[0])\n",
      "    l_walk = append(l_walk,likelihood(y_obs[:,i,j], y_init))\n",
      "    return a_walk, b_walk, c_walk, d_walk, l_walk"
     ],
     "language": "python",
     "metadata": {},
     "outputs": [],
     "prompt_number": 35
    },
    {
     "cell_type": "code",
     "collapsed": false,
     "input": [
      "def iteraciones(a_walk, b_walk, c_walk, d_walk, l_walk,  i, j):\n",
      "    \n",
      "    n_iterations = 20000 #this is the number of iterations I want to make\n",
      "    for k in range(n_iterations):\n",
      "        a_prime = np.random.normal(a_walk[k], 50) \n",
      "        b_prime = np.random.normal(b_walk[k], 0.1)\n",
      "        c_prime = np.random.normal(c_walk[k], 15)\n",
      "        d_prime = np.random.normal(d_walk[k], 50)        \n",
      "\n",
      "        y_init = linear_gauss_model(x_obs, a_walk[k], b_walk[k], c_walk[k], d_walk[k])\n",
      "        y_prime = linear_gauss_model(x_obs, a_prime, b_prime, c_prime, d_prime)\n",
      "    \n",
      "        l_prime = likelihood(y_obs[:,i,j], y_prime)\n",
      "        l_init = likelihood(y_obs[:,i,j], y_init)\n",
      "    \n",
      "        alpha = l_prime-l_init\n",
      "        if(alpha>=0.0):\n",
      "            a_walk  = append(a_walk,a_prime)\n",
      "            b_walk  = append(b_walk,b_prime)\n",
      "            c_walk  = append(c_walk,c_prime)\n",
      "            d_walk  = append(d_walk,d_prime)           \n",
      "            l_walk = append(l_walk, l_prime)\n",
      "        else:\n",
      "            beta = random.random()\n",
      "            if(beta<=exp(alpha)):\n",
      "                a_walk = append(a_walk,a_prime)\n",
      "                b_walk = append(b_walk,b_prime)\n",
      "                c_walk = append(c_walk,c_prime)\n",
      "                d_walk = append(d_walk,d_prime)                \n",
      "                l_walk = append(l_walk, l_prime)\n",
      "            else:\n",
      "                a_walk = append(a_walk,a_walk[k])\n",
      "                b_walk = append(b_walk,b_walk[k])\n",
      "                c_walk = append(c_walk,c_walk[k])\n",
      "                d_walk = append(d_walk,d_walk[k])\n",
      "                l_walk = append(l_walk, l_init)\n",
      "                \n",
      "    return a_walk, b_walk, c_walk, d_walk, l_walk"
     ],
     "language": "python",
     "metadata": {},
     "outputs": [],
     "prompt_number": 36
    },
    {
     "cell_type": "raw",
     "metadata": {},
     "source": []
    },
    {
     "cell_type": "raw",
     "metadata": {},
     "source": [
      "max_likelihood_id = argmax(l_walk)\n",
      "best_a = a_walk[max_likelihood_id]\n",
      "best_b = b_walk[max_likelihood_id]\n",
      "print log10(l_walk[max_likelihood_id])\n",
      "print best_a\n",
      "print best_b"
     ]
    },
    {
     "cell_type": "raw",
     "metadata": {},
     "source": [
      "best_y = linear_model(ztimes, best_a, best_b)\n",
      "scatter(x_obs,y_obs[:,0,0])\n",
      "plot(x_obs, best_y)"
     ]
    },
    {
     "cell_type": "markdown",
     "metadata": {},
     "source": [
      "#Implementamos el ciclo para 100 pixeles"
     ]
    },
    {
     "cell_type": "code",
     "collapsed": false,
     "input": [
      "a_walk = []\n",
      "b_walk = []\n",
      "c_walk = []\n",
      "d_walk = []\n",
      "l_walk = []\n",
      "\n",
      "fileout = open('lineal_gaussiano.txt', 'w')\n",
      "fileout.write('Observaci\u00f3n\\tMejor Ajuste\\tPar\u00e1metro\\n')\n",
      "fileout.close()\n",
      "\n",
      "for i in range(len(y_obs[0,:,0])):\n",
      "    for j in range(len(y_obs[0,0,:])):\n",
      "        a_walk, b_walk, c_walk, d_walk, l_walk = inicializar(x_obs, y_obs, i, j)\n",
      "        a_walk, b_walk, c_walk, d_walk, l_walk = iteraciones(a_walk, b_walk, c_walk, d_walk, l_walk, i, j)\n",
      "        \n",
      "        #Escoger el mejor\n",
      "        max_likelihood_id = argmax(l_walk)\n",
      "        best_a = a_walk[max_likelihood_id]\n",
      "        best_b = b_walk[max_likelihood_id]\n",
      "        best_c = c_walk[max_likelihood_id]\n",
      "        best_d = d_walk[max_likelihood_id]\n",
      "    \n",
      "        #Graficar\n",
      "        best_y = linear_gauss_model(x_obs, best_a, best_b, best_c, best_d)\n",
      "        scatter(x_obs,y_obs[:,i,j])\n",
      "        plot(x_obs, best_y)\n",
      "        show()\n",
      "        \n",
      "        #Escribir el archivo\n",
      "        fileout = open('lineal_gaussiano.txt', 'a')\n",
      "        fileout.write('Obser_'+str(i)+'_'+str(j)+'\\t'+str(best_a)+'\\ta\\n' +\n",
      "                      'Obser_'+str(i)+'_'+str(j)+'\\t'+str(best_b)+'\\tb\\n' +                       \n",
      "                      'Obser_'+str(i)+'_'+str(j)+'\\t'+str(best_c)+'\\tc\\n' + \n",
      "                      'Obser_'+str(i)+'_'+str(j)+'\\t'+str(best_d)+'\\td\\n' + \n",
      "                      'Obser_'+str(i)+'_'+str(j)+'\\t'+str(-l_walk[max_likelihood_id]) +'\\tLikelihood\\n')\n",
      "        fileout.close()"
     ],
     "language": "python",
     "metadata": {},
     "outputs": []
    },
    {
     "cell_type": "code",
     "collapsed": false,
     "input": [
      "best_y = linear_gauss_model(x_obs, 40, 10, -10, 300)\n",
      "scatter(x_obs,y_obs[:,i,j])\n",
      "plot(x_obs, best_y)"
     ],
     "language": "python",
     "metadata": {},
     "outputs": []
    },
    {
     "cell_type": "code",
     "collapsed": false,
     "input": [],
     "language": "python",
     "metadata": {},
     "outputs": [],
     "prompt_number": 20
    }
   ],
   "metadata": {}
  }
 ]
}