{
 "metadata": {
  "name": "",
  "signature": "sha256:d24e4aeeb8419d4683ae3c400c274750b87a51b6eabbb9b01a37b6debebda276"
 },
 "nbformat": 3,
 "nbformat_minor": 0,
 "worksheets": [
  {
   "cells": [
    {
     "cell_type": "code",
     "collapsed": false,
     "input": [
      "%pylab inline"
     ],
     "language": "python",
     "metadata": {},
     "outputs": [
      {
       "output_type": "stream",
       "stream": "stdout",
       "text": [
        "Populating the interactive namespace from numpy and matplotlib\n"
       ]
      }
     ],
     "prompt_number": 1
    },
    {
     "cell_type": "markdown",
     "metadata": {},
     "source": [
      "M\u00e9todos Computacionales - Tarea 7\n",
      "=================================\n",
      "Punto 2\n",
      "---------"
     ]
    },
    {
     "cell_type": "markdown",
     "metadata": {},
     "source": [
      "###a)"
     ]
    },
    {
     "cell_type": "markdown",
     "metadata": {},
     "source": [
      "Este punto debe hacer el ajuste a los datos a los tres medelos.   \n",
      "**Cada ajuste debe estar en un programa separado.**  \n",
      "**Debe estar escrito en ** $Python$."
     ]
    },
    {
     "cell_type": "code",
     "collapsed": false,
     "input": [],
     "language": "python",
     "metadata": {},
     "outputs": [],
     "prompt_number": 1
    },
    {
     "cell_type": "markdown",
     "metadata": {},
     "source": [
      "###b)"
     ]
    },
    {
     "cell_type": "markdown",
     "metadata": {},
     "source": [
      "Este punto debe reconocer cu\u00e1l es el modelo que mejor se ajusta a cada observaci\u00f3n, graficar cada observaci\u00f3n con el mejor modelo y escribir un archivo **bestmodels.txt**.  \n",
      "**Debe estar escrito en** $Python$."
     ]
    },
    {
     "cell_type": "code",
     "collapsed": false,
     "input": [],
     "language": "python",
     "metadata": {},
     "outputs": [],
     "prompt_number": 1
    },
    {
     "cell_type": "markdown",
     "metadata": {},
     "source": [
      "###c)"
     ]
    },
    {
     "cell_type": "markdown",
     "metadata": {},
     "source": [
      "Escribir un *Makefile* que lo ejecute todo."
     ]
    },
    {
     "cell_type": "markdown",
     "metadata": {},
     "source": [
      "###d)"
     ]
    },
    {
     "cell_type": "markdown",
     "metadata": {},
     "source": [
      "**Bono:** Repetir el punto **a)** usando la librer\u00eda ***emcee***"
     ]
    },
    {
     "cell_type": "code",
     "collapsed": false,
     "input": [],
     "language": "python",
     "metadata": {},
     "outputs": []
    }
   ],
   "metadata": {}
  }
 ]
}