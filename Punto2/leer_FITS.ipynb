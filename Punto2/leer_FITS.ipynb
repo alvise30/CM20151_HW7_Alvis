{
 "metadata": {
  "name": "",
  "signature": "sha256:58ac5c90e7f448bd716a868a25fc02bc674374265fd2d1021e4b095a82ed17fb"
 },
 "nbformat": 3,
 "nbformat_minor": 0,
 "worksheets": [
  {
   "cells": [
    {
     "cell_type": "markdown",
     "metadata": {},
     "source": [
      "#Punto 2"
     ]
    },
    {
     "cell_type": "code",
     "collapsed": false,
     "input": [
      "%pylab inline\n",
      "import pyfits\n",
      "import pandas as pd"
     ],
     "language": "python",
     "metadata": {},
     "outputs": [
      {
       "output_type": "stream",
       "stream": "stdout",
       "text": [
        "Populating the interactive namespace from numpy and matplotlib\n"
       ]
      }
     ],
     "prompt_number": 1
<<<<<<< HEAD
=======
    },
    {
     "cell_type": "markdown",
     "metadata": {},
     "source": [
      "Definimos la funciones que utilizaremos para extraer los datos, ajustar la escala temporal y hacer las gr\u00e1ficas del campo magn\u00e9tico con respecto al tiempo, escalado y sin escalar"
     ]
    },
    {
     "cell_type": "code",
     "collapsed": false,
     "input": [
      "#Funci\u00f3n para graficar (coordenada temporal sin unidades)\n",
      "def gsenzat(data,i,j):\n",
      "    test = data[:,i,j]\n",
      "\n",
      "    x = linspace(0, 397, 398)\n",
      "    y = linspace(0, 198, 199)\n",
      "    z = linspace(0, 206, 207)\n",
      "\n",
      "    plot(z, test)\n",
      "    xlabel(\"Coordenada Temporal sin Unidades\")\n",
      "    ylabel(\"Campo Magenitco [Gauss]\")"
     ],
     "language": "python",
     "metadata": {},
     "outputs": [],
     "prompt_number": 2
>>>>>>> e7f9d3f354bd929ea14c9a191ef427a6a8950723
    },
    {
     "cell_type": "code",
     "collapsed": false,
     "input": [
<<<<<<< HEAD
      "#from astropy.io import fits\n",
      "import pyfits\n",
      "import pandas as pd"
=======
      "#Esta funci\u00f3n convierte de segundos a minutos donde sea necesario; luego suma los intervalos para crear continuidad en el tiempo\n",
      "def prep_time(times): \n",
      "    tmp = times    \n",
      "    #Pasamos de minutos a segundos donde sea necesario.\n",
      "    t = where(times!=45.)\n",
      "    for i in t:\n",
      "        tmp[i] = times[i]*60.\n",
      "        \n",
      "    #Sumamos los intervalos\n",
      "    for j in range(len(times)-1):\n",
      "        tmp[j+1] = tmp[j] + tmp[j+1]\n",
      "    return tmp "
>>>>>>> e7f9d3f354bd929ea14c9a191ef427a6a8950723
     ],
     "language": "python",
     "metadata": {},
     "outputs": [],
<<<<<<< HEAD
     "prompt_number": 24
=======
     "prompt_number": 3
>>>>>>> e7f9d3f354bd929ea14c9a191ef427a6a8950723
    },
    {
     "cell_type": "code",
     "collapsed": false,
     "input": [
<<<<<<< HEAD
      "#hdulist = fits.open('hmi.m_45s.magnetogram.subregion_x1y1.fits')\n",
      "hdulist = pyfits.open('hmi.m_45s.magnetogram.subregion_x1y1.fits')"
=======
      "#Funci\u00f3n para graficar con la escala temporal ajustada (segundos)\n",
      "def gcont(data, times, i, j):\n",
      "    test = data[:,i,j]\n",
      "\n",
      "    x = linspace(0, 397, 398)\n",
      "    y = linspace(0, 198, 199)\n",
      "    z = linspace(0, 206, 207)\n",
      " \n",
      "    #Redimencionamos la coordenada temporal\n",
      "    tmp = prep_time(times) #Preparamos los tiempos\n",
      "    ztimes = tmp*z\n",
      "    \n",
      "    plot(ztimes, test)\n",
      "    xlabel(\"Tiempo[s]\")\n",
      "    ylabel(\"Campo Magenitco [Gauss]\")\n",
      "    show()\n",
      "    scatter(ztimes, test)\n",
      "    xlabel(\"Tiempo[s]\")\n",
      "    ylabel(\"Campo Magenitco [Gauss]\")\n",
      "    xlim(-100,6000000)\n",
      "    show()\n",
      "    return ztimes"
>>>>>>> e7f9d3f354bd929ea14c9a191ef427a6a8950723
     ],
     "language": "python",
     "metadata": {},
     "outputs": [],
     "prompt_number": 4
<<<<<<< HEAD
=======
    },
    {
     "cell_type": "markdown",
     "metadata": {},
     "source": [
      "Cargamos y leemos los datos que se encuentran en el .FITS"
     ]
    },
    {
     "cell_type": "code",
     "collapsed": false,
     "input": [
      "#Leemos el FITS\n",
      "hdulist = pyfits.open('hmi.m_45s.magnetogram.subregion_x1y1.fits')"
     ],
     "language": "python",
     "metadata": {},
     "outputs": [],
     "prompt_number": 5
>>>>>>> e7f9d3f354bd929ea14c9a191ef427a6a8950723
    },
    {
     "cell_type": "code",
     "collapsed": false,
     "input": [
      "hdulist.info() # obtener informaci\u00f3n detallada del contenido"
     ],
     "language": "python",
     "metadata": {},
     "outputs": [
      {
       "output_type": "stream",
       "stream": "stdout",
       "text": [
        "Filename: hmi.m_45s.magnetogram.subregion_x1y1.fits\n",
        "No.    Name         Type      Cards   Dimensions   Format\n",
        "0    PRIMARY     PrimaryHDU     121   (398, 199, 207)   float32   \n"
       ]
      }
     ],
<<<<<<< HEAD
     "prompt_number": 5
=======
     "prompt_number": 6
    },
    {
     "cell_type": "code",
     "collapsed": false,
     "input": [
      "#Extraemos los datos del fichero\n",
      "data = hdulist[0].data"
     ],
     "language": "python",
     "metadata": {},
     "outputs": [],
     "prompt_number": 7
    },
    {
     "cell_type": "code",
     "collapsed": false,
     "input": [
      "#Cerramos el archivo (Le\u00ed que porq ocupa mucho espacio en la memorio y puede entorpecer los procesos)\n",
      "hdulist.close()"
     ],
     "language": "python",
     "metadata": {},
     "outputs": [],
     "prompt_number": 8
    },
    {
     "cell_type": "code",
     "collapsed": false,
     "input": [
      "#Miramos los ejes de los datos extraidos (Ohh!! x & z est\u00e1n intercambiados ;))\n",
      "print shape(data) "
     ],
     "language": "python",
     "metadata": {},
     "outputs": [
      {
       "output_type": "stream",
       "stream": "stdout",
       "text": [
        "(207, 199, 398)\n"
       ]
      }
     ],
     "prompt_number": 9
    },
    {
     "cell_type": "markdown",
     "metadata": {},
     "source": [
      "Ahora cargamos y leemos los datos de intervalos.txt; este archivo contiene los intervalos obtenidos a partir de times.csv"
     ]
    },
    {
     "cell_type": "code",
     "collapsed": false,
     "input": [
      "#Cargamos el archivo que contiene los intervalos de medici\u00f3n\n",
      "timesfile = pd.read_table('intervalos.txt')"
     ],
     "language": "python",
     "metadata": {},
     "outputs": [],
     "prompt_number": 10
    },
    {
     "cell_type": "code",
     "collapsed": false,
     "input": [
      "#Extraemos la informaci\u00f3n\n",
      "times = timesfile['Intervalo']"
     ],
     "language": "python",
     "metadata": {},
     "outputs": [],
     "prompt_number": 11
    },
    {
     "cell_type": "markdown",
     "metadata": {},
     "source": [
      "Ya hemos extraido todos los datos; solo resta aplicar las funciones.  \n",
      "Comenzamos con la escala sin unidades"
     ]
    },
    {
     "cell_type": "code",
     "collapsed": false,
     "input": [
      "gsenzat(data,138,241)"
     ],
     "language": "python",
     "metadata": {},
     "outputs": [
      {
       "metadata": {},
       "output_type": "display_data",
       "png": "iVBORw0KGgoAAAANSUhEUgAAAYwAAAEPCAYAAABRHfM8AAAABHNCSVQICAgIfAhkiAAAAAlwSFlz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\nAAAASUVORK5CYII=\n",
       "text": [
        "<matplotlib.figure.Figure at 0xaf08092c>"
       ]
      }
     ],
     "prompt_number": 12
    },
    {
     "cell_type": "markdown",
     "metadata": {},
     "source": [
      "Ahora graficamos despu\u00e9s de reescalar la coordenada temporal."
     ]
>>>>>>> e7f9d3f354bd929ea14c9a191ef427a6a8950723
    },
    {
     "cell_type": "code",
     "collapsed": false,
     "input": [
<<<<<<< HEAD
      "data = hdulist[0].data"
=======
      "ztimes = gcont(data,times,138,241)"
     ],
     "language": "python",
     "metadata": {},
     "outputs": [
      {
       "metadata": {},
       "output_type": "display_data",
       "png": "iVBORw0KGgoAAAANSUhEUgAAAZkAAAEPCAYAAACQmrmQAAAABHNCSVQICAgIfAhkiAAAAAlwSFlz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\n2hYiueUAAAAASUVORK5CYII=\n",
       "text": [
        "<matplotlib.figure.Figure at 0xaf601c4c>"
       ]
      },
      {
       "metadata": {},
       "output_type": "display_data",
       "png": "iVBORw0KGgoAAAANSUhEUgAAAZkAAAEPCAYAAACQmrmQAAAABHNCSVQICAgIfAhkiAAAAAlwSFlz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\n",
       "text": [
        "<matplotlib.figure.Figure at 0xaf5ff78c>"
       ]
      }
     ],
     "prompt_number": 13
    },
    {
     "cell_type": "markdown",
     "metadata": {},
     "source": [
      "#DE AQU\u00cd PARA ARRIBA NO MODIFICAR"
     ]
    },
    {
     "cell_type": "code",
     "collapsed": false,
     "input": [
      "test = data[:,138,241]\n",
      "x_obs = ztimes\n",
      "y_obs = test"
>>>>>>> e7f9d3f354bd929ea14c9a191ef427a6a8950723
     ],
     "language": "python",
     "metadata": {},
     "outputs": [],
<<<<<<< HEAD
     "prompt_number": 20
=======
     "prompt_number": 37
    },
    {
     "cell_type": "code",
     "collapsed": false,
     "input": [
      "def likelihood(y_obs, y_model):\n",
      "    chi_squared = (1.0/2.0)*sum((y_obs-y_model)**2)\n",
      "    return exp(-chi_squared)"
     ],
     "language": "python",
     "metadata": {},
     "outputs": [],
     "prompt_number": 38
>>>>>>> e7f9d3f354bd929ea14c9a191ef427a6a8950723
    },
    {
     "cell_type": "code",
     "collapsed": false,
     "input": [
      "prihdr = hdulist[0].header"
     ],
     "language": "python",
     "metadata": {},
<<<<<<< HEAD
     "outputs": [],
     "prompt_number": 21
=======
     "source": [
      "def my_model(t, a, b, c, d, e):\n",
      "    return a + b*t + (exp((-1/2)*(t-e/c)**2)/(c*sqrt(2*pi)))"
     ]
>>>>>>> e7f9d3f354bd929ea14c9a191ef427a6a8950723
    },
    {
     "cell_type": "code",
     "collapsed": false,
     "input": [
<<<<<<< HEAD
      "test = data[:,138,241]\n",
      "\n",
      "x = linspace(0, 397, 398)\n",
      "y = linspace(0, 198, 199)\n",
      "z = linspace(0, 206, 207)\n",
      "\n",
      "plot(z, test)\n",
      "xlabel(\"coordenada temporal sin unidades\")\n",
      "ylabel(\"Campo Magenitco [Gauss]\")"
=======
      "def my_model(x_obs, m, b):\n",
      "    return x_obs*m + b"
     ],
     "language": "python",
     "metadata": {},
     "outputs": [],
     "prompt_number": 43
    },
    {
     "cell_type": "code",
     "collapsed": false,
     "input": [
      "exp(-sum((y_obs-y_init)**2)*(1.0/2.0))"
>>>>>>> e7f9d3f354bd929ea14c9a191ef427a6a8950723
     ],
     "language": "python",
     "metadata": {},
     "outputs": [
      {
       "metadata": {},
       "output_type": "pyout",
<<<<<<< HEAD
       "prompt_number": 22,
       "text": [
        "<matplotlib.text.Text at 0x3aa2390>"
       ]
      },
      {
       "metadata": {},
       "output_type": "display_data",
       "png": "iVBORw0KGgoAAAANSUhEUgAAAYwAAAEMCAYAAADXiYGSAAAABHNCSVQICAgIfAhkiAAAAAlwSFlz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\n",
       "text": [
        "<matplotlib.figure.Figure at 0x3a72790>"
       ]
      }
     ],
     "prompt_number": 22
=======
       "prompt_number": 49,
       "text": [
        "0.0"
       ]
      }
     ],
     "prompt_number": 49
    },
    {
     "cell_type": "code",
     "collapsed": false,
     "input": [
      "m_walk = empty((0)) #this is an empty list to keep all the steps\n",
      "b_walk = empty((0))\n",
      "l_walk = empty((0))\n",
      "\n",
      "m_walk = append(m_walk, random.random())\n",
      "b_walk = append(b_walk, random.random())\n",
      "\n",
      "y_init = my_model(x_obs, m_walk[0], b_walk[0])\n",
      "l_walk = append(l_walk, likelihood(y_obs, y_init))\n",
      "print m_walk\n",
      "print b_walk\n",
      "print l_walk"
     ],
     "language": "python",
     "metadata": {},
     "outputs": [
      {
       "output_type": "stream",
       "stream": "stdout",
       "text": [
        "[ 0.72715321]\n",
        "[ 0.80160017]\n",
        "[ 0.]\n"
       ]
      }
     ],
     "prompt_number": 42
    },
    {
     "cell_type": "code",
     "collapsed": false,
     "input": [
      "a_walk = empty((0)) #this is an empty list to keep all the steps\n",
      "b_walk = empty((0))\n",
      "c_walk = empty((0))\n",
      "d_walk = empty((0))\n",
      "e_walk = empty((0))\n",
      "#f_walk = empty((0))\n",
      "l_walk = empty((0))\n",
      "\n",
      "a_walk = append(a_walk, random.random())\n",
      "b_walk = append(b_walk, random.random())\n",
      "c_walk = append(c_walk, random.random())\n",
      "d_walk = append(d_walk, random.random())\n",
      "e_walk = append(e_walk, random.random())\n",
      "#f_walk = append(f_walk, random.random())\n",
      "\n",
      "y_init = my_model(ztimes, a_walk[0], b_walk[0], c_walk[0], d_walk[0], e_walk[0])\n",
      "l_walk = append(l_walk, likelihood(test, y_init))\n",
      "print a_walk\n",
      "print b_walk\n",
      "print c_walk\n",
      "print d_walk\n",
      "print e_walk\n",
      "#print f_walk\n",
      "print l_walk"
     ],
     "language": "python",
     "metadata": {},
     "outputs": [
      {
       "output_type": "stream",
       "stream": "stdout",
       "text": [
        "[ 0.02993858]\n",
        "[ 0.88227648]\n",
        "[ 0.96707243]\n",
        "[ 0.85648439]\n",
        "[ 0.19348892]\n",
        "[ 0.]\n"
       ]
      }
     ],
     "prompt_number": 30
>>>>>>> e7f9d3f354bd929ea14c9a191ef427a6a8950723
    },
    {
     "cell_type": "code",
     "collapsed": false,
     "input": [
<<<<<<< HEAD
      "hdulist.close()\n",
      "hdulist2.close()"
=======
      "n_iterations = 2000 #this is the number of iterations I want to make\n",
      "for i in range(n_iterations):\n",
      "    m_prime = np.random.normal(m_walk[i], 0.1) \n",
      "    b_prime = np.random.normal(b_walk[i], 0.1)\n",
      "\n",
      "    y_init = my_model(ztimes, m_walk[i], b_walk[i])\n",
      "    y_prime = my_model(ztimes, m_prime, b_prime)\n",
      "    \n",
      "    l_prime = likelihood(, y_prime)\n",
      "    l_init = likelihood(test, y_init)\n",
      "    \n",
      "    alpha = l_prime/l_init\n",
      "    if(alpha>=1.0):\n",
      "        m_walk  = append(m_walk,m_prime)\n",
      "        b_walk  = append(b_walk,b_prime)\n",
      "        l_walk = append(l_walk, l_prime)\n",
      "    else:\n",
      "        beta = random.random()\n",
      "        if(beta<=alpha):\n",
      "            m_walk = append(m_walk,m_prime)\n",
      "            b_walk = append(b_walk,b_prime)\n",
      "            l_walk = append(l_walk, l_prime)\n",
      "        else:\n",
      "            m_walk = append(m_walk,m_walk[i])\n",
      "            b_walk = append(b_walk,b_walk[i])\n",
      "            l_walk = append(l_walk, l_init)"
>>>>>>> e7f9d3f354bd929ea14c9a191ef427a6a8950723
     ],
     "language": "python",
     "metadata": {},
     "outputs": [],
<<<<<<< HEAD
     "prompt_number": 23
=======
     "prompt_number": 18
>>>>>>> e7f9d3f354bd929ea14c9a191ef427a6a8950723
    },
    {
     "cell_type": "code",
     "collapsed": false,
     "input": [
<<<<<<< HEAD
      "times = pd.read_csv('times.csv')"
     ],
     "language": "python",
     "metadata": {},
     "outputs": [],
     "prompt_number": 25
=======
      "scatter(m_walk, b_walk)"
     ],
     "language": "python",
     "metadata": {},
     "outputs": [
      {
       "metadata": {},
       "output_type": "pyout",
       "prompt_number": 19,
       "text": [
        "<matplotlib.collections.PathCollection at 0xaee8106c>"
       ]
      },
      {
       "metadata": {},
       "output_type": "display_data",
       "png": "iVBORw0KGgoAAAANSUhEUgAAAY0AAAEACAYAAABPiSrXAAAABHNCSVQICAgIfAhkiAAAAAlwSFlz\nAAALEgAACxIB0t1+/AAAEedJREFUeJzt3H/sVfV9x/Hnla9kRUFnBOkA/bYOiyxZa+u+pbObt9Fa\nqF1xXTrDH5uNmSFtZaZjimg2vk3Xqau/0pgtZLJZFx3pVmxo4lRw3oQlrEBFwAoOGGSAtFJ1Frcy\nUe7++Jwvnu/1XM778v3ee79eno/k5nvu+XzOOZ8P58t93c/5nPMFSZIkSZIkSZIkSZIkSZIkSSM0\nF9gB7ASWFJTPAtYDR4DFDWV7ga3AZmBDwbaLgWPAOaPUVklSF40DdgH9wOnAc8DFDXUmA5cCf8G7\nQ2MPzQNhBvBESR1J0hhyWkn5ACk09gJHgZXA/IY6h4BNWXmRSpP19wK3hFopSRoTykJjGrAv935/\nti6qDqwlhcoNufXzs31tbWFfkqQu6yspr49w/5cBB0mXsNaQ5kZ+BNwGfDpXr9loRJI0hpSFxgHS\n3MOQGaQRQtTB7Och4DHS5a7XSHMkW7Ky6aQgGQBezm984YUX1nfv3t3C4STplLcb+NV27bzs8tQm\nYCbpQ348cC2wukndxtHCBGBitnwGcBWwDXgeOA/4QPbaD3yUhsAA2L17N/V6vSdfy5Yt63ob7J/9\ns3+99wIuLPlcH5GykcZbwI3Ak6Q7qVYA24GFWflyYCqwEZhEun32JmA2MAVYlTvOI8BTBccY6SUw\nSVKHlIUGwL9kr7zlueWfMPwS1pA3gI8E9v/BQB1J0hhQdnlKbVKtVrvdhLayf+9t9k/NjPW7lurZ\nNTpJUkClUoE2frY70pAkhRkakqQwQ0OSFGZoSJLCDA1JUpihIUkKMzQkSWGGhiQpzNCQJIUZGpKk\nMENDkhRmaEiSwgwNSVKYoSFJCjM0JElhhoYkKczQkCSFGRqSpDBDQ5IUZmhIksIMDUlSmKEhSQoz\nNCRJYYaGJCnM0JAkhRkakqSwSGjMBXYAO4ElBeWzgPXAEWBxQ9leYCuwGdiQW/8NYAvwHPA0MKOV\nRkuSuqNSUj4OeBG4EjgAbAQWANtzdSYDFwDXAK8B9+TK9gAfA15t2O9E4HC2vAj4MPBHBcev1+v1\n0k5IkpJKpQLln+0nrWykMQDsIo0YjgIrgfkNdQ4Bm7LyIkWNP5xbPhP4WVlDJUnd11dSPg3Yl3u/\nH/h4C/uvA2uBt4HlwN/myr4J/AHwv8CcFvYpSeqSspHGSK8NXQZcAswDvgr8Vq7sduB84CHgvhEe\nR5LUAWUjjQMMn6SeQRptRB3Mfh4CHiNd7lrXUOdR4PFmOxgcHDy+XK1WqVarLRxeknpbrVajVqt1\n7HhlkyV9pInwK4CXSHdANU6EDxkkzVUMTYRPIE2kHwbOAJ4Cvp79nEm6GwvSRPgA6VJVIyfCJakF\n7Z4ILxtpvAXcCDxJCoAVpMBYmJUvB6aS7qqaBBwDbgJmA1OAVbnjPEIKDIA7gA+R5jp2A18eeVck\nSe3WtjQaJY40JKkF3b7lVpKk4wwNSVKYoSFJCjM0JElhhoYkKczQkCSFGRqSpDBDQ5IUZmhIksIM\nDUlSmKEhSQozNCRJYYaGJCnM0JAkhRkakqQwQ0OSFGZoSJLCDA1JUpihIUkKMzQkSWGGhiQpzNCQ\nJIUZGpKkMENDkhRmaEiSwgwNSVKYoSFJCjM0JElhhoYkKSwaGnOBHcBOYElB+SxgPXAEWNxQthfY\nCmwGNuTWfwvYDmwBVgFnRRstSeqOSqDOOOBF4ErgALARWED6wB8yGbgAuAZ4DbgnV7YH+BjwasN+\nPw08DRwD7szW3dpQp16v1wNNlCQBVCoViH22n5TISGMA2EUaMRwFVgLzG+ocAjZl5UWKOrCGFBgA\nPwSmB9oiSeqiSGhMA/bl3u/P1kXVgbWkULmhSZ3rgcdb2KckqQv6AnVGen3oMuAg6RLWGtLcyLpc\n+e3Am8CjRRsPDg4eX65Wq1Sr1RE2R5J6R61Wo1ardex4ketec4BB0mQ4wFLSZaW7CuouA95g+JzG\nicq/RBp9XEGaRG/knIYktWAszGlsAmYC/cB44FpgdZO6jQ2dAEzMls8ArgK2Ze/nAjeT5keKAkOS\nNMZE02gecD/pTqoVwB3AwqxsOTCVdFfVJNIo5DAwG5hCup0W0qWwR7JtId2+O5537qpaD3yl4biO\nNCSpBe0eabRtx6PE0JCkFoyFy1OSJAGGhiSpBYaGJCnM0JAkhRkakqQwQ0OSFGZoSJLCDA1JUpih\nIUkKMzQkSWGGhiQpzNCQJIUZGpKkMENDkhRmaEiSwgwNSVKYoSFJCjM0JElhhoYkKczQkCSFGRqS\npDBDQ5IUZmhIksIMDUlSmKEhSQozNKSgSqVCpTKJSuV0KpWzqFQq3W6S1HGGhhSQAmIC8DDwKnAr\ncKbBoVPOWP+Nr9fr9W63QcrC4ZPAumxNHTgb+Dn+jmosyb7ItO2zPTLSmAvsAHYCSwrKZwHrgSPA\n4oayvcBWYDOwIbf+i8CPgbeBj7bUYqlr9gD/ly2/BPyii22RuqOvpHwc8ABwJXAA2AisBrbn6rwC\nLAKuKdi+DlRJ4/m8bcDvAstbbrHUNYdJ33E+BfwT0Ee9/mZ3myR1WFloDAC7SCMGgJXAfIaHxqHs\ndXWTfRQNk3bEmyh1X71ez4b9L2QvvCylU1LZ5alpwL7c+/3Zuqg6sBbYBNzQWtOksaVerw97Saei\nspHGSP9nXAYcBCYDa0gjjHUn3KLB4ODg8eVqtUq1Wh1hkySpd9RqNWq1WseOVzbDPgcYJE2GAywF\njgF3FdRdBrwB3NNkX0Xlz5Amz59tso13T0lSC7p999QmYCbQD4wHriVNhBdpbOQEYGK2fAZwFWkC\nvGw7SdIYFfnAngfcT7qTagVwB7AwK1sOTCXdVTWJNAo5DMwGpgCrsnp9wCPZtpDunPo2cC7wOumW\n3HkFx3akIUktaPdIY6x/yzc0JKkF3b48JUnScYaGJCnM0JAkhRkakqQwQ0OSFGZoSJLCDA1JUpih\nIUkKMzQkSWGGhiQpzNCQJIUZGpKkMENDkhRmaEiSwgwNSVKYoSFJCjM0JElhhoYkKczQkCSFGRqS\npDBDQ5IUZmhIksIMDUlSmKEhSQozNCRJYYaGJCnM0JAkhRkakqSwSGjMBXYAO4ElBeWzgPXAEWBx\nQ9leYCuwGdiQW38OsAb4D+Ap4OxWGi1J6o6y0BgHPEAKjtnAAuDihjqvAIuAuwu2rwNV4BJgILf+\nVlJoXAQ8nb2XJI1xZaExAOwijRiOAiuB+Q11DgGbsvIilYJ1nwe+ky1/B7gm0FZJUpeVhcY0YF/u\n/f5sXVQdWEsKlRty688Dfpot/zR7L0ka4/pKyusj3P9lwEFgMuly1A5gXcExmh5ncHDw+HK1WqVa\nrY6wSZLUO2q1GrVarWPHK7p0lDcHGCTNaQAsBY4BdxXUXQa8AdzTZF/LgMPAvaTwqAI/Ad4PPEOa\nUG9Ur9dHmluSdOqoVCpQ/tl+0souT20CZgL9wHjgWmB1k7qNjZwATMyWzwCuAp7P3q8GrsuWrwO+\nH26xJKlrImk0D7ifdCfVCuAOYGFWthyYCmwEJpFGIYdJd1pNAVZl9fqAR7JtId1y+13gfNIk++8D\n/11wbEcaktSCdo802rbjUWJoSFILun15SpKk4wwNSVKYoSFJCjM0JElhhoYkKczQkCSFGRqSpDBD\nQ5IUZmhIksIMDUlSmKEhSQozNCRJYYaGJCnM0JAkhRkakqQwQ0OSFGZoSJLCDA1JUpihIUkKMzQk\nSWGGhiQpzNCQJIUZGpKkMENDkhRmaEiSwgwNSVKYoSFJCjM0JElhkdCYC+wAdgJLCspnAeuBI8Di\ngvJxwGbgB7l1H8622QqsBibGmyxJ6pay0BgHPEAKjtnAAuDihjqvAIuAu5vs4ybgBaCeW/cgcAvw\n68BjwM0ttVqS1BVloTEA7AL2AkeBlcD8hjqHgE1ZeaPpwGdJIVHJrZ8JrMuW1wK/10qjJUndURYa\n04B9uff7s3VR95FGEcca1v+Yd8Lni8CMFvYpSeqSstCol5SfyOeAl0nzGZWGsuuBr5BGKGcCb47g\nOJKkDukrKT/A8FHADNJoI+I3gc+TLk/9EjAJeBj4Q+BF4DNZvYuAq5vtZHBw8PhytVqlWq0GDy9J\nva9Wq1Gr1Tp2vMYRQKM+0gf8FcBLwAbSZPj2grqDwGHgnoKyy4E/BX4nez+ZNBdyGvAQ8K/Zz0b1\nen0kgx1JOrVUKhUo/2w/aWUjjbeAG4EnSXdSrSAFxsKsfDkwFdhIGkkcI90tNRt4o2Ff+U//BcBX\ns+XvURwYkqQxpm1pNEocaUhSC9o90vCJcElSmKEhSQozNCRJYYaGJCnM0JAkhRkakqQwQ0OSFGZo\nSJLCDA1JUpihIUkKMzQkSWGGhiQpzNCQJIUZGpKkMENDkhRmaEiSwgwNSVKYoSFJCjM0JElhhoYk\nKczQkCSFGRqSpDBDQ5IUZmhIksIMDUlSmKEhSQozNCRJYYaGJCksEhpzgR3ATmBJQfksYD1wBFhc\nUD4O2Az8ILduANiQrd8I/Ea8yZKkbikLjXHAA6TgmA0sAC5uqPMKsAi4u8k+bgJeAOq5dX8F/Blw\nCfDn2ftTSq1W63YT2sr+vbfZPzVTFhoDwC5gL3AUWAnMb6hzCNiUlTeaDnwWeBCo5NYfBM7Kls8G\nDrTS6F7Q67+09u+9zf6pmb6S8mnAvtz7/cDHW9j/fcDNwKSG9bcC/0YanZwGfKKFfUqSuqRspFEv\nKT+RzwEvk+YtKg1lK4A/Bs4Hvgb83QiOI0kaI+YAT+TeL6V4MhxgGcMnwv+SNErZQ7oc9T/Aw1nZ\nz3P1KsDrTfa5ixRcvnz58uUr9tpFF/UBu4F+YDzwHO+eCB8ySPHdUwCXM/zuqWezdQBXkO6gkiT1\ngHnAi6T0WpqtW5i9AKaSRhSvA68B/wWc2bCPy4HVufeXAj8khdB60l1UkiRJkhRT9mDgLwOPAVtI\nI49fC2z7jaz+c8DTwIxc2dKs/g7gqlHpwYl1sn/9wC9INxZsBv56lPrQTDv6NmQxcAw4J7euF87d\nkMb+9dPZcwft6d8g6Q7KoX7My5X1wvkbZHj/5mbr++mN8wfpmbrtwPPAXbn1nT5/hcaRLmn1A6dT\nPB/yLdJDfgAfAtYGtp2Y234R6RkQSA8fPpfV78+2b+efSel0//qBbaPU9jLt6hukEHyCdIPE0Idq\nr5w7KO5fP507d9C+/i0D/qTgeL1y/pr1r5/eOH+fAtZk6wEmZz9bOn/tPLGRBwMvBp7Jll8kNXhK\nybaHc9ufCfwsW54P/GNWf2+2/cCo9KRYp/vXSe3qG8C9wC0N++qVcwfF/eu0dvav8fZ56K3zV9S/\nTmtX/74M3ME7D2Ifyn62dP7aGRpFDwZOa6izBfhCtjwAXEB6irxs22+SJty/RPpHAPiVrN6Jjjea\nOtG/64A7c+s/QBoe14BPjqj1J9auvs3P3m9t2FevnLtm/YPOnTto7+/momzbFaS/5gC9c/6guH/Q\nG+dvJvDbwL+T+nFptr6l89fO0KgH6txJOjGbgRuzn28Htr2d9GDg3wP3j7ANJ6sT/XuI9FQ9wEuk\nSx+XkIbQjzL8UtZoakff3gfcRroEMORE3+rea+fuRP3r5LmD9v1u/g3pw/MjpGev7hlhG05Wp/vX\nK+evjzQXMof0lzq+ezJtKPszIiNxgOGT1DMYnmaQLsVcn3u/h/RcyPsC20I6eY83Od502vs3rTrd\nvzezF6TnXHaTvjk8exJtL9OOvl1IGkJvydZPB35E+rM0vXDumvVvgPSXETp17qB9v5sv59Y/yDvP\nXvXC+YPm/evk/z1oX//2A6uy5Y2kmzXOLTheu89fU5EHA8/KygBuIH2zLtt2Zm77RcA/ZMtDkznj\nSd8WdtPe65Od7t+5pEkugA+SfgHyw+fR1K6+5RVNhL/Xz11evn+dPHfRNp5M/96f2/5rpC810Dvn\nr1n/euX8LQS+ni1fRLoEDp0/fydU9mDgJ7LyHcA/885fvm22LVm9baROfo80+TPktqz+DuAzo9iP\nZjrZvy+QbpPbTPoGe/XoduVd2tG3vP9k+C23vXDu8vL96/S5g/b072HSfM0W4PvAebmyXjh/zfrX\nK+fvdNKX0G2kflRzZZ0+f5IkSZIkSZIkSZIkSZIkSZIkSZIkKer/AYQpAnL84OZTAAAAAElFTkSu\nQmCC\n",
       "text": [
        "<matplotlib.figure.Figure at 0xaefe488c>"
       ]
      }
     ],
     "prompt_number": 19
>>>>>>> e7f9d3f354bd929ea14c9a191ef427a6a8950723
    },
    {
     "cell_type": "code",
     "collapsed": false,
     "input": [
<<<<<<< HEAD
      "print(times.columns)"
=======
      "scatter(m_walk, -log(l_walk))"
>>>>>>> e7f9d3f354bd929ea14c9a191ef427a6a8950723
     ],
     "language": "python",
     "metadata": {},
     "outputs": [
      {
<<<<<<< HEAD
       "output_type": "stream",
       "stream": "stdout",
       "text": [
        "array([0, 2011.03.09_19:22:26_TAI], dtype=object)\n"
       ]
      }
     ],
     "prompt_number": 43
=======
       "metadata": {},
       "output_type": "pyout",
       "prompt_number": 20,
       "text": [
        "<matplotlib.collections.PathCollection at 0xaf061bcc>"
       ]
      },
      {
       "metadata": {},
       "output_type": "display_data",
       "png": "iVBORw0KGgoAAAANSUhEUgAAAYgAAAEACAYAAACpoOGTAAAABHNCSVQICAgIfAhkiAAAAAlwSFlz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\nJEmSJEmSJEmSJEnqjv8DwHN/hNOHRlAAAAAASUVORK5CYII=\n",
       "text": [
        "<matplotlib.figure.Figure at 0xaee6a88c>"
       ]
      }
     ],
     "prompt_number": 20
>>>>>>> e7f9d3f354bd929ea14c9a191ef427a6a8950723
    },
    {
     "cell_type": "code",
     "collapsed": false,
     "input": [
<<<<<<< HEAD
      "col0 = times['0']\n",
      "col1 = times['2011.03.09_19:22:26_TAI']"
=======
      "scatter(b_walk, -log(l_walk))"
     ],
     "language": "python",
     "metadata": {},
     "outputs": [
      {
       "metadata": {},
       "output_type": "pyout",
       "prompt_number": 21,
       "text": [
        "<matplotlib.collections.PathCollection at 0xaee549ec>"
       ]
      },
      {
       "metadata": {},
       "output_type": "display_data",
       "png": "iVBORw0KGgoAAAANSUhEUgAAAYgAAAEACAYAAACpoOGTAAAABHNCSVQICAgIfAhkiAAAAAlwSFlz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\nJEmSJEmSJEmSJEnqjv8DwHN/hNOHRlAAAAAASUVORK5CYII=\n",
       "text": [
        "<matplotlib.figure.Figure at 0xaeeb908c>"
       ]
      }
     ],
     "prompt_number": 21
    },
    {
     "cell_type": "code",
     "collapsed": false,
     "input": [
      "min_b = amin(b_walk)\n",
      "max_b = amax(b_walk)\n",
      "min_m = amin(m_walk)\n",
      "max_m = amax(m_walk)\n",
      "grid_m, grid_b = mgrid[min_m:max_m:200j, min_b:max_b:200j]"
>>>>>>> e7f9d3f354bd929ea14c9a191ef427a6a8950723
     ],
     "language": "python",
     "metadata": {},
     "outputs": [],
<<<<<<< HEAD
     "prompt_number": 50
=======
     "prompt_number": 22
>>>>>>> e7f9d3f354bd929ea14c9a191ef427a6a8950723
    },
    {
     "cell_type": "code",
     "collapsed": false,
     "input": [
<<<<<<< HEAD
      "t = times.Timedelta('1 day, 2011.03.09_19:22:26_TAI')"
=======
      "from scipy.interpolate import griddata\n",
      "n_points = size(m_walk)\n",
      "points = ones((n_points,2))\n",
      "print shape(points)\n",
      "points[:,0] = m_walk\n",
      "points[:,1] = b_walk\n",
      "grid_l = griddata(points, -log(l_walk), (grid_m, grid_b), method='cubic')\n",
      "imshow(grid_l.T, extent=(min_m,max_m,min_b,max_b), aspect='auto',origin='lower')"
>>>>>>> e7f9d3f354bd929ea14c9a191ef427a6a8950723
     ],
     "language": "python",
     "metadata": {},
     "outputs": [
      {
<<<<<<< HEAD
       "ename": "AttributeError",
       "evalue": "'DataFrame' object has no attribute 'Timedelta'",
       "output_type": "pyerr",
       "traceback": [
        "\u001b[1;31m---------------------------------------------------------------------------\u001b[0m\n\u001b[1;31mAttributeError\u001b[0m                            Traceback (most recent call last)",
        "\u001b[1;32m<ipython-input-58-7a14ee9a973a>\u001b[0m in \u001b[0;36m<module>\u001b[1;34m()\u001b[0m\n\u001b[1;32m----> 1\u001b[1;33m \u001b[0mt\u001b[0m \u001b[1;33m=\u001b[0m \u001b[0mtimes\u001b[0m\u001b[1;33m.\u001b[0m\u001b[0mTimedelta\u001b[0m\u001b[1;33m(\u001b[0m\u001b[1;34m'1 day, 2011.03.09_19:22:26_TAI'\u001b[0m\u001b[1;33m)\u001b[0m\u001b[1;33m\u001b[0m\u001b[0m\n\u001b[0m",
        "\u001b[1;32m/usr/lib/pymodules/python2.7/pandas/core/frame.pyc\u001b[0m in \u001b[0;36m__getattr__\u001b[1;34m(self, name)\u001b[0m\n\u001b[0;32m   1435\u001b[0m             \u001b[1;32mreturn\u001b[0m \u001b[0mself\u001b[0m\u001b[1;33m[\u001b[0m\u001b[0mname\u001b[0m\u001b[1;33m]\u001b[0m\u001b[1;33m\u001b[0m\u001b[0m\n\u001b[0;32m   1436\u001b[0m         raise AttributeError(\"'%s' object has no attribute '%s'\" %\n\u001b[1;32m-> 1437\u001b[1;33m                              (type(self).__name__, name))\n\u001b[0m\u001b[0;32m   1438\u001b[0m \u001b[1;33m\u001b[0m\u001b[0m\n\u001b[0;32m   1439\u001b[0m     \u001b[1;32mdef\u001b[0m \u001b[0m__setitem__\u001b[0m\u001b[1;33m(\u001b[0m\u001b[0mself\u001b[0m\u001b[1;33m,\u001b[0m \u001b[0mkey\u001b[0m\u001b[1;33m,\u001b[0m \u001b[0mvalue\u001b[0m\u001b[1;33m)\u001b[0m\u001b[1;33m:\u001b[0m\u001b[1;33m\u001b[0m\u001b[0m\n",
        "\u001b[1;31mAttributeError\u001b[0m: 'DataFrame' object has no attribute 'Timedelta'"
       ]
      }
     ],
     "prompt_number": 58
=======
       "output_type": "stream",
       "stream": "stdout",
       "text": [
        "(20001, 2)\n"
       ]
      },
      {
       "ename": "QhullError",
       "evalue": "Qhull error",
       "output_type": "pyerr",
       "traceback": [
        "\u001b[0;31m---------------------------------------------------------------------------\u001b[0m\n\u001b[0;31mQhullError\u001b[0m                                Traceback (most recent call last)",
        "\u001b[0;32m<ipython-input-23-c6ab2bce62da>\u001b[0m in \u001b[0;36m<module>\u001b[0;34m()\u001b[0m\n\u001b[1;32m      5\u001b[0m \u001b[0mpoints\u001b[0m\u001b[0;34m[\u001b[0m\u001b[0;34m:\u001b[0m\u001b[0;34m,\u001b[0m\u001b[0;36m0\u001b[0m\u001b[0;34m]\u001b[0m \u001b[0;34m=\u001b[0m \u001b[0mm_walk\u001b[0m\u001b[0;34m\u001b[0m\u001b[0m\n\u001b[1;32m      6\u001b[0m \u001b[0mpoints\u001b[0m\u001b[0;34m[\u001b[0m\u001b[0;34m:\u001b[0m\u001b[0;34m,\u001b[0m\u001b[0;36m1\u001b[0m\u001b[0;34m]\u001b[0m \u001b[0;34m=\u001b[0m \u001b[0mb_walk\u001b[0m\u001b[0;34m\u001b[0m\u001b[0m\n\u001b[0;32m----> 7\u001b[0;31m \u001b[0mgrid_l\u001b[0m \u001b[0;34m=\u001b[0m \u001b[0mgriddata\u001b[0m\u001b[0;34m(\u001b[0m\u001b[0mpoints\u001b[0m\u001b[0;34m,\u001b[0m \u001b[0;34m-\u001b[0m\u001b[0mlog\u001b[0m\u001b[0;34m(\u001b[0m\u001b[0ml_walk\u001b[0m\u001b[0;34m)\u001b[0m\u001b[0;34m,\u001b[0m \u001b[0;34m(\u001b[0m\u001b[0mgrid_m\u001b[0m\u001b[0;34m,\u001b[0m \u001b[0mgrid_b\u001b[0m\u001b[0;34m)\u001b[0m\u001b[0;34m,\u001b[0m \u001b[0mmethod\u001b[0m\u001b[0;34m=\u001b[0m\u001b[0;34m'cubic'\u001b[0m\u001b[0;34m)\u001b[0m\u001b[0;34m\u001b[0m\u001b[0m\n\u001b[0m\u001b[1;32m      8\u001b[0m \u001b[0mimshow\u001b[0m\u001b[0;34m(\u001b[0m\u001b[0mgrid_l\u001b[0m\u001b[0;34m.\u001b[0m\u001b[0mT\u001b[0m\u001b[0;34m,\u001b[0m \u001b[0mextent\u001b[0m\u001b[0;34m=\u001b[0m\u001b[0;34m(\u001b[0m\u001b[0mmin_m\u001b[0m\u001b[0;34m,\u001b[0m\u001b[0mmax_m\u001b[0m\u001b[0;34m,\u001b[0m\u001b[0mmin_b\u001b[0m\u001b[0;34m,\u001b[0m\u001b[0mmax_b\u001b[0m\u001b[0;34m)\u001b[0m\u001b[0;34m,\u001b[0m \u001b[0maspect\u001b[0m\u001b[0;34m=\u001b[0m\u001b[0;34m'auto'\u001b[0m\u001b[0;34m,\u001b[0m\u001b[0morigin\u001b[0m\u001b[0;34m=\u001b[0m\u001b[0;34m'lower'\u001b[0m\u001b[0;34m)\u001b[0m\u001b[0;34m\u001b[0m\u001b[0m\n",
        "\u001b[0;32m/usr/lib/python2.7/dist-packages/scipy/interpolate/ndgriddata.pyc\u001b[0m in \u001b[0;36mgriddata\u001b[0;34m(points, values, xi, method, fill_value, rescale)\u001b[0m\n\u001b[1;32m    208\u001b[0m     \u001b[0;32melif\u001b[0m \u001b[0mmethod\u001b[0m \u001b[0;34m==\u001b[0m \u001b[0;34m'cubic'\u001b[0m \u001b[0;32mand\u001b[0m \u001b[0mndim\u001b[0m \u001b[0;34m==\u001b[0m \u001b[0;36m2\u001b[0m\u001b[0;34m:\u001b[0m\u001b[0;34m\u001b[0m\u001b[0m\n\u001b[1;32m    209\u001b[0m         ip = CloughTocher2DInterpolator(points, values, fill_value=fill_value,\n\u001b[0;32m--> 210\u001b[0;31m                                         rescale=rescale)\n\u001b[0m\u001b[1;32m    211\u001b[0m         \u001b[0;32mreturn\u001b[0m \u001b[0mip\u001b[0m\u001b[0;34m(\u001b[0m\u001b[0mxi\u001b[0m\u001b[0;34m)\u001b[0m\u001b[0;34m\u001b[0m\u001b[0m\n\u001b[1;32m    212\u001b[0m     \u001b[0;32melse\u001b[0m\u001b[0;34m:\u001b[0m\u001b[0;34m\u001b[0m\u001b[0m\n",
        "\u001b[0;32m/usr/lib/python2.7/dist-packages/scipy/interpolate/interpnd.so\u001b[0m in \u001b[0;36mscipy.interpolate.interpnd.CloughTocher2DInterpolator.__init__ (scipy/interpolate/interpnd.c:9300)\u001b[0;34m()\u001b[0m\n",
        "\u001b[0;32m/usr/lib/python2.7/dist-packages/scipy/spatial/qhull.so\u001b[0m in \u001b[0;36mscipy.spatial.qhull.Delaunay.__init__ (scipy/spatial/qhull.c:13719)\u001b[0;34m()\u001b[0m\n",
        "\u001b[0;32m/usr/lib/python2.7/dist-packages/scipy/spatial/qhull.so\u001b[0m in \u001b[0;36mscipy.spatial.qhull._Qhull.__init__ (scipy/spatial/qhull.c:3602)\u001b[0;34m()\u001b[0m\n",
        "\u001b[0;31mQhullError\u001b[0m: Qhull error"
       ]
      }
     ],
     "prompt_number": 23
    },
    {
     "cell_type": "code",
     "collapsed": false,
     "input": [
      "count, bins, ignored =plt.hist(m_walk, 20, normed=True)"
     ],
     "language": "python",
     "metadata": {},
     "outputs": [
      {
       "metadata": {},
       "output_type": "display_data",
       "png": "iVBORw0KGgoAAAANSUhEUgAAAXcAAAEACAYAAABI5zaHAAAABHNCSVQICAgIfAhkiAAAAAlwSFlz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\nflf1p53n2TIAAAAAAAAAAAAAAAAAO/X/ePkSdClECBIAAAAASUVORK5CYII=\n",
       "text": [
        "<matplotlib.figure.Figure at 0xae3442ac>"
       ]
      }
     ],
     "prompt_number": 24
    },
    {
     "cell_type": "code",
     "collapsed": false,
     "input": [
      "count, bins, ignored =plt.hist(b_walk, 20, normed=True)"
     ],
     "language": "python",
     "metadata": {},
     "outputs": [
      {
       "metadata": {},
       "output_type": "display_data",
       "png": "iVBORw0KGgoAAAANSUhEUgAAAXYAAAEACAYAAACnJV25AAAABHNCSVQICAgIfAhkiAAAAAlwSFlz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\nAABJRU5ErkJggg==\n",
       "text": [
        "<matplotlib.figure.Figure at 0xae2cd42c>"
       ]
      }
     ],
     "prompt_number": 25
    },
    {
     "cell_type": "code",
     "collapsed": false,
     "input": [
      "max_likelihood_id = argmax(l_walk)\n",
      "best_m = m_walk[max_likelihood_id]\n",
      "best_b = b_walk[max_likelihood_id]\n",
      "print log10(l_walk[max_likelihood_id])\n",
      "print best_m\n",
      "print best_b"
     ],
     "language": "python",
     "metadata": {},
     "outputs": [
      {
       "output_type": "stream",
       "stream": "stdout",
       "text": [
        "-inf\n",
        "0.904493900322\n",
        "0.151119721947\n"
       ]
      }
     ],
     "prompt_number": 26
    },
    {
     "cell_type": "code",
     "collapsed": false,
     "input": [
      "best_y = my_model(ztimes, best_m, best_b)\n",
      "scatter(ztimes,test)\n",
      "plot(ztimes, best_y)"
     ],
     "language": "python",
     "metadata": {},
     "outputs": [
      {
       "metadata": {},
       "output_type": "pyout",
       "prompt_number": 27,
       "text": [
        "[<matplotlib.lines.Line2D at 0xae2d9dac>]"
       ]
      },
      {
       "metadata": {},
       "output_type": "display_data",
       "png": "iVBORw0KGgoAAAANSUhEUgAAAakAAAEACAYAAAAJP4l9AAAABHNCSVQICAgIfAhkiAAAAAlwSFlz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\nRERERERERERERERERESkPP1/nCf/sTk+T4YAAAAASUVORK5CYII=\n",
       "text": [
        "<matplotlib.figure.Figure at 0xae2d99ec>"
       ]
      }
     ],
     "prompt_number": 27
>>>>>>> e7f9d3f354bd929ea14c9a191ef427a6a8950723
    },
    {
     "cell_type": "code",
     "collapsed": false,
     "input": [],
     "language": "python",
     "metadata": {},
     "outputs": []
    }
   ],
   "metadata": {}
  }
 ]
}