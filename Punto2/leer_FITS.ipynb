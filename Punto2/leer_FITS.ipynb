{
 "metadata": {
  "name": "",
  "signature": "sha256:cceb47b4b666404ff92fbd32894d92d6e3f212931f42476b8071d92ec954617b"
 },
 "nbformat": 3,
 "nbformat_minor": 0,
 "worksheets": [
  {
   "cells": [
    {
     "cell_type": "markdown",
     "metadata": {},
     "source": [
      "#Punto 2"
     ]
    },
    {
     "cell_type": "code",
     "collapsed": false,
     "input": [
      "%pylab inline\n",
      "import pyfits\n",
      "import pandas as pd"
     ],
     "language": "python",
     "metadata": {},
     "outputs": [
      {
       "output_type": "stream",
       "stream": "stdout",
       "text": [
        "Populating the interactive namespace from numpy and matplotlib\n"
       ]
      }
     ],
     "prompt_number": 1
    },
    {
     "cell_type": "markdown",
     "metadata": {},
     "source": [
      "Definimos la funciones que utilizaremos para extraer los datos, ajustar la escala temporal y hacer las gr\u00e1ficas del campo magn\u00e9tico con respecto al tiempo, escalado y sin escalar"
     ]
    },
    {
     "cell_type": "code",
     "collapsed": false,
     "input": [
      "#Funci\u00f3n para graficar (coordenada temporal sin unidades)\n",
      "def gsenzat(data,i,j):\n",
      "    test = data[:,i,j]\n",
      "\n",
      "    x = linspace(0, 397, 398)\n",
      "    y = linspace(0, 198, 199)\n",
      "    z = linspace(0, 206, 207)\n",
      "\n",
      "    plot(z, test)\n",
      "    xlabel(\"Coordenada Temporal sin Unidades\")\n",
      "    ylabel(\"Campo Magenitco [Gauss]\")"
     ],
     "language": "python",
     "metadata": {},
     "outputs": [],
     "prompt_number": 2
    },
    {
     "cell_type": "code",
     "collapsed": false,
     "input": [
      "#Esta funci\u00f3n convierte de segundos a minutos donde sea necesario; luego suma los intervalos para crear continuidad en el tiempo\n",
      "def prep_time(times): \n",
      "    tmp = times    \n",
      "    #Pasamos de minutos a segundos donde sea necesario.\n",
      "    t = where(times!=45.)\n",
      "    for i in t:\n",
      "        tmp[i] = times[i]*60.\n",
      "        \n",
      "    #Sumamos los intervalos\n",
      "    for j in range(len(times)-1):\n",
      "        tmp[j+1] = tmp[j] + tmp[j+1]\n",
      "    return tmp "
     ],
     "language": "python",
     "metadata": {},
     "outputs": [],
     "prompt_number": 3
    },
    {
     "cell_type": "code",
     "collapsed": false,
     "input": [
      "#Funci\u00f3n para graficar con la escala temporal ajustada (segundos)\n",
      "def gcont(data, times, i, j):\n",
      "    test = data[:,i,j]\n",
      "\n",
      "    x = linspace(0, 397, 398)\n",
      "    y = linspace(0, 198, 199)\n",
      "    z = linspace(0, 206, 207)\n",
      " \n",
      "    #Redimencionamos la coordenada temporal\n",
      "    tmp = prep_time(times) #Preparamos los tiempos\n",
      "    ztimes = tmp*z\n",
      "    \n",
      "    plot(ztimes, test)\n",
      "    xlabel(\"Tiempo[s]\")\n",
      "    ylabel(\"Campo Magenitco [Gauss]\")"
     ],
     "language": "python",
     "metadata": {},
     "outputs": [],
     "prompt_number": 4
    },
    {
     "cell_type": "markdown",
     "metadata": {},
     "source": [
      "Cargamos y leemos los datos que se encuentran en el .FITS"
     ]
    },
    {
     "cell_type": "code",
     "collapsed": false,
     "input": [
      "#Leemos el FITS\n",
      "hdulist = pyfits.open('hmi.m_45s.magnetogram.subregion_x1y1.fits')"
     ],
     "language": "python",
     "metadata": {},
     "outputs": [],
     "prompt_number": 5
    },
    {
     "cell_type": "code",
     "collapsed": false,
     "input": [
      "hdulist.info() # obtener informaci\u00f3n detallada del contenido"
     ],
     "language": "python",
     "metadata": {},
     "outputs": [
      {
       "output_type": "stream",
       "stream": "stdout",
       "text": [
        "Filename: hmi.m_45s.magnetogram.subregion_x1y1.fits\n",
        "No.    Name         Type      Cards   Dimensions   Format\n",
        "0    PRIMARY     PrimaryHDU     121   (398, 199, 207)   float32   \n"
       ]
      }
     ],
     "prompt_number": 6
    },
    {
     "cell_type": "code",
     "collapsed": false,
     "input": [
      "#Extraemos los datos del fichero\n",
      "data = hdulist[0].data"
     ],
     "language": "python",
     "metadata": {},
     "outputs": [],
     "prompt_number": 7
    },
    {
     "cell_type": "code",
     "collapsed": false,
     "input": [
      "#Cerramos el archivo (Le\u00ed que porq ocupa mucho espacio en la memorio y puede entorpecer los procesos)\n",
      "hdulist.close()"
     ],
     "language": "python",
     "metadata": {},
     "outputs": [],
     "prompt_number": 8
    },
    {
     "cell_type": "code",
     "collapsed": false,
     "input": [
      "#Miramos los ejes de los datos extraidos (Ohh!! x & z est\u00e1n intercambiados ;))\n",
      "print shape(data) "
     ],
     "language": "python",
     "metadata": {},
     "outputs": [
      {
       "output_type": "stream",
       "stream": "stdout",
       "text": [
        "(207, 199, 398)\n"
       ]
      }
     ],
     "prompt_number": 9
    },
    {
     "cell_type": "markdown",
     "metadata": {},
     "source": [
      "Ahora cargamos y leemos los datos de intervalos.txt; este archivo contiene los intervalos obtenidos a partir de times.csv"
     ]
    },
    {
     "cell_type": "code",
     "collapsed": false,
     "input": [
      "#Cargamos el archivo que contiene los intervalos de medici\u00f3n\n",
      "timesfile = pd.read_table('intervalos.txt')"
     ],
     "language": "python",
     "metadata": {},
     "outputs": [],
     "prompt_number": 10
    },
    {
     "cell_type": "code",
     "collapsed": false,
     "input": [
      "#Extraemos la informaci\u00f3n\n",
      "times = timesfile['Intervalo']"
     ],
     "language": "python",
     "metadata": {},
     "outputs": [],
     "prompt_number": 11
    },
    {
     "cell_type": "markdown",
     "metadata": {},
     "source": [
      "Ya hemos extraido todos los datos; solo resta aplicar las funciones.  \n",
      "Comenzamos con la escala sin unidades"
     ]
    },
    {
     "cell_type": "code",
     "collapsed": false,
     "input": [
      "gsenzat(data,138,241)"
     ],
     "language": "python",
     "metadata": {},
     "outputs": [
      {
       "metadata": {},
       "output_type": "display_data",
       "png": "[encoded data removed]",
       "text": [
        "<matplotlib.figure.Figure at 0xaf0e998c>"
       ]
      }
     ],
     "prompt_number": 12
    },
    {
     "cell_type": "markdown",
     "metadata": {},
     "source": [
      "Ahora graficamos despu\u00e9s de reescalar la coordenada temporal."
     ]
    },
    {
     "cell_type": "code",
     "collapsed": false,
     "input": [
      "gcont(data,times,138,241)"
     ],
     "language": "python",
     "metadata": {},
     "outputs": [
      {
       "metadata": {},
       "output_type": "display_data",
       "png": "[encoded data removed]",
       "text": [
        "<matplotlib.figure.Figure at 0xaf675d8c>"
       ]
      }
     ],
     "prompt_number": 13
    },
    {
     "cell_type": "markdown",
     "metadata": {},
     "source": [
      "#DE AQU\u00cd PARA ARRIBA NO MODIFICAR"
     ]
    },
    {
     "cell_type": "code",
     "collapsed": false,
     "input": [],
     "language": "python",
     "metadata": {},
     "outputs": [],
     "prompt_number": 13
    }
   ],
   "metadata": {}
  }
 ]
}