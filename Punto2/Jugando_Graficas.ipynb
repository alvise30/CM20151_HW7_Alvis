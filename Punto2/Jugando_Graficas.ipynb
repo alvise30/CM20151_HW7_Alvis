{
 "metadata": {
  "name": "",
  "signature": "sha256:8f10a7eb58f4436541aac0fb82777f0023eb63f86edd1136701552d64af7333c"
 },
 "nbformat": 3,
 "nbformat_minor": 0,
 "worksheets": [
  {
   "cells": [
    {
     "cell_type": "code",
     "collapsed": false,
     "input": [
      "%pylab inline\n",
      "import pyfits\n",
      "import pandas as pd"
     ],
     "language": "python",
     "metadata": {},
     "outputs": [
      {
       "output_type": "stream",
       "stream": "stdout",
       "text": [
        "Populating the interactive namespace from numpy and matplotlib\n"
       ]
      }
     ],
     "prompt_number": 1
    },
    {
     "cell_type": "code",
     "collapsed": false,
     "input": [
      "#Modelo lineal Gaussiano\n",
      "def linear_gauss_model(x_obs, a, b, c, d):\n",
      "    return a + b*x_obs + 1/(c*sqrt(2*pi)) * exp((-0.5)*((x_obs-d)/c)**2)\n",
      "#Modelo lineal Paso\n",
      "def linear_paso_model(x_obs, a, b, c, d, e):\n",
      "    return a + b*x_obs + c*(1 + (2*arctan(d*(x_obs-e))/pi))"
     ],
     "language": "python",
     "metadata": {},
     "outputs": [],
     "prompt_number": 2
    },
    {
     "cell_type": "code",
     "collapsed": false,
     "input": [],
     "language": "python",
     "metadata": {},
     "outputs": []
    }
   ],
   "metadata": {}
  }
 ]
}