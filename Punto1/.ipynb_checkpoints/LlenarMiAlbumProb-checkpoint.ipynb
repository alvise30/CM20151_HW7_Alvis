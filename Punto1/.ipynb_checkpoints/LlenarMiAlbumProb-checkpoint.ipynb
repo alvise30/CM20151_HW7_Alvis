{
 "cells": [
  {
   "cell_type": "markdown",
   "metadata": {},
   "source": [
    "#Desarrollo 1c Tarea 7"
   ]
  },
  {
   "cell_type": "code",
   "execution_count": 1,
   "metadata": {
    "collapsed": true
   },
   "outputs": [],
   "source": [
    "import numpy as np \n",
    "import matplotlib as plt\n",
    "import random \n",
    "import time\n",
    "import pylab as pl"
   ]
  },
  {
   "cell_type": "code",
   "execution_count": 2,
   "metadata": {
    "collapsed": true
   },
   "outputs": [],
   "source": [
    "#En primera instancia se hacen los arrelglos con los que se va a trabajar \n",
    "size = 640 \n",
    "caramelos = np.zeros(size)\n",
    "probabilidades = np.zeros(size)"
   ]
  },
  {
   "cell_type": "markdown",
   "metadata": {},
   "source": [
    "Ahora se llenan las 640 caramelos que se van a usar y la probabilidad de cada carta en salir. Esto se calculó de la siguiente manera: \n",
    "\n",
    "$P_e = \\frac{1}{6}P_n$\n",
    "\n",
    "$P_h = \\frac{1}{3}P_n$\n",
    "\n",
    "$P_n + P_e + P_h = 1$\n",
    "\n",
    "$=> P_n + \\frac{1}{3}P_n + \\frac{1}{6}P_n = 1$\n",
    "\n",
    "Despejando se tiene entonces que:\n",
    "\n",
    "$P_n = \\frac{2}{3} ; P_e = \\frac{1}{9} ; P_h = \\frac{2}{9}P_n$\n"
   ]
  },
  {
   "cell_type": "code",
   "execution_count": 25,
   "metadata": {
    "collapsed": false
   },
   "outputs": [],
   "source": [
    "for i in range(0,len(caramelos)):\n",
    "\tcaramelos[i] = i\n",
    "\n",
    "for i in range(0,560):\n",
    "\tprobabilidades[i] = (2.0/3.0)*(1.0/560)\n",
    "for i in range(560,600):\n",
    "\tprobabilidades[i] = (1.0/9.0)*(1.0/40)\n",
    "for i in range(600,640):\n",
    "\tprobabilidades[i] = (2.0/9.0)*(1.0/40)"
   ]
  },
  {
   "cell_type": "code",
   "execution_count": 26,
   "metadata": {
    "collapsed": false
   },
   "outputs": [],
   "source": [
    "#Se definen las funciones que se van a utilizar\n",
    "def llenarAlbum(caramelos):\n",
    "\tPlataGastada = 0\n",
    "\tmiAlbum= []\n",
    "\trepetidas = []\n",
    "\twhile len(miAlbum) < 640:\n",
    "\t\tPlataGastada = PlataGastada + 400 #El precio por cada caramelo es de 400 COP segun el enunciado\n",
    "\t\titem = np.random.choice(caramelos, p= probabilidades)\n",
    "\t\tif item in miAlbum:\n",
    "\t\t\trepetidas.append(item) #Aqui se guardan las repetidas. Just in case... \n",
    "\t\telse:\n",
    "\t\t\tmiAlbum.append(item)\n",
    "\treturn PlataGastada\n"
   ]
  },
  {
   "cell_type": "code",
   "execution_count": 34,
   "metadata": {
    "collapsed": false
   },
   "outputs": [],
   "source": [
    "def LlenarMAlbums(caramelos, llenarAlbum, numAlbums):\n",
    "\tX = []\n",
    "\ti = 1\n",
    "\twhile i <= numAlbums:\n",
    "\t\tX.append(llenarAlbum(caramelos))\n",
    "\t\ti = i + 1\n",
    "\tmu_m = np.mean(X)\n",
    "\tsigma_m = np.var(X)\n",
    "\treturn  mu_m, sigma_m"
   ]
  },
  {
   "cell_type": "markdown",
   "metadata": {},
   "source": [
    "### Aqui se corre hasta 100. Hasta 100000 es algo exagerado. Y hasta 10000 se demoro 3 horas y media! \n",
    "\n",
    "Así pues, sabemos que el loop debe ir hasta 100000, lo hicimos hasta 10000 y se demoro mucho. Así que para probarlo solo lo hicimos hasta 100. Si lo quieren probar con un m mayor, funciona pero se va a demorar una eternidad. "
   ]
  },
  {
   "cell_type": "code",
   "execution_count": 29,
   "metadata": {
    "collapsed": false
   },
   "outputs": [
    {
     "name": "stdout",
     "output_type": "stream",
     "text": [
      "[2328760.0, 2176940.0, 2310973.3333333335, 2365640.0, 2301248.0, 2280340.0, 2257428.5714285714, 2246140.0, 2356173.3333333335]\n",
      "[111218062400.0, 58526686000.0, 142140686933.33334, 173053299900.0, 199501634304.0, 178898039955.5556, 291387479020.4082, 137890917500.0, 171000527822.22223]\n",
      "--- El programa se demora en correr 782.6555285453796 segundos. Tener paciencia por favor.Gracias ---\n"
     ]
    }
   ],
   "source": [
    "E_x= [] #Aqui se van a guardar todos las medias de cada vez que se llena el album\n",
    "Var_x= [] #Se guarda la Varianza de cada vez que se llena el album \n",
    "start_time = time.time()\n",
    "paso= []\n",
    "#Ahora se hace un loop que llena el album 10000 veces, dado a que se quiere que el paso sea de 10 en 10. \n",
    "for i in range(1,10):\n",
    "\tj = i*10\n",
    "\tpaso.append(j)\n",
    "\tE_x.append(LlenarMAlbums(caramelos,llenarAlbum,j)[0])\n",
    "\tVar_x.append(LlenarMAlbums(caramelos,llenarAlbum,j)[1])\n",
    "print(E_x)\n",
    "print(Var_x)\n",
    "print(\"--- El programa se demora en correr %s segundos. Tener paciencia por favor.Gracias ---\" % (time.time() - start_time))"
   ]
  },
  {
   "cell_type": "code",
   "execution_count": 38,
   "metadata": {
    "collapsed": false
   },
   "outputs": [],
   "source": [
    "pl.subplot(2, 1, 1)\n",
    "pl.plot(paso,E_x,'b')\n",
    "pl.title('Promedio y varianza de los precios \\n de llenar el album m veces')\n",
    "pl.ylabel('Promedio')\n",
    "\n",
    "pl.subplot(2, 1, 2)\n",
    "pl.plot(paso,Var_x,'r')\n",
    "pl.xlabel('Numero de veces que se llena el Album (m)')\n",
    "pl.ylabel('Varianza')\n",
    "pl.savefig('PromediosM.png')\n",
    "pl.show()\n"
   ]
  },
  {
   "cell_type": "code",
   "execution_count": 49,
   "metadata": {
    "collapsed": false
   },
   "outputs": [
    {
     "name": "stdout",
     "output_type": "stream",
     "text": [
      "50\n",
      "2280960.0\n"
     ]
    }
   ],
   "source": [
    "E_x_m = np.mean(E_x)\n",
    "dif = np.abs(E_x - E_x_m)\n",
    "mini = np.min(dif)\n",
    "itemindex = np.where(dif==mini)\n",
    "int1= itemindex[0]\n",
    "mbuscado= (int1[0] +1)*10\n",
    "print(mbuscado)\n",
    "PromeBuscado = LlenarMAlbums(caramelos,llenarAlbum, mbuscado)[0]\n",
    "print(PromeBuscado)"
   ]
  },
  {
   "cell_type": "code",
   "execution_count": 50,
   "metadata": {
    "collapsed": false,
    "scrolled": true
   },
   "outputs": [
    {
     "name": "stdout",
     "output_type": "stream",
     "text": [
      "Dado a que esto es un proceso bastante aleatorio pues entre caso y caso varia considerablemente como se puede ver en la varianza y en las diferencias. \n",
      "Según esto es dificil sacar un valor fijo del album pues es algo bastante aleatorio. Sin embargo haciendo el caso con el mbuscado 50 \n",
      "Encontramos que en el mejor caso del precio es 2280960.0 sin embargo esto es un promedio de los casos que se llena el album  \n"
     ]
    }
   ],
   "source": [
    "print('Dado a que esto es un proceso bastante aleatorio pues entre caso y caso varia considerablemente como se puede ver en la varianza y en las diferencias. ')\n",
    "print('Según esto es dificil sacar un valor fijo del album pues es algo bastante aleatorio. Sin embargo haciendo el caso con el mbuscado %s ' %mbuscado)\n",
    "print('Encontramos que en el mejor caso del precio es %s sin embargo esto es un promedio de los casos que se llena el album  ' %PromeBuscado )"
   ]
  },
  {
   "cell_type": "markdown",
   "metadata": {},
   "source": [
    "Así pues, bajo las consideraciones hechas se podría decir que el album, considerando la diferente probabilidad de las cartas en salir es alrededor de los  ~2'300.000 COP. Es decir si uno paga cada carta que saca. Vemos que es un promedio mucho mayor que el encontrado en el primer punto, lo cual es algo que se esperaba pues ahora obtener cartas especiales o holográficas es cada vez más difícil.  \n",
    "Este es un precio bastante elevado y recordando que si uno sacara cada caramelo solo una vez el precio sería de 256.000COP. Por lo menos en la vida real se pueden intercambiar... "
   ]
  },
  {
   "cell_type": "code",
   "execution_count": 42,
   "metadata": {
    "collapsed": false
   },
   "outputs": [],
   "source": [
    "pl.plot(paso, dif, color=\"DarkOliveGreen\", linewidth=2.5, linestyle=\"-\", label=\"Media\")\n",
    "pl.ylabel('Diferencia de las medias')\n",
    "pl.xlabel('Numero de veces que se llena el album (m)')\n",
    "pl.title('Grafica de la diferencia entre los premedios\\n en funcion de los albums llenados')\n",
    "pl.savefig('DiferenciasM.png')\n",
    "pl.show()"
   ]
  },
  {
   "cell_type": "code",
   "execution_count": null,
   "metadata": {
    "collapsed": true
   },
   "outputs": [],
   "source": []
  }
 ],
 "metadata": {
  "kernelspec": {
   "display_name": "Python 3",
   "language": "python",
   "name": "python3"
  },
  "language_info": {
   "codemirror_mode": {
    "name": "ipython",
    "version": 3
   },
   "file_extension": ".py",
   "mimetype": "text/x-python",
   "name": "python",
   "nbconvert_exporter": "python",
   "pygments_lexer": "ipython3",
   "version": "3.4.3"
  }
 },
 "nbformat": 4,
 "nbformat_minor": 0
}
