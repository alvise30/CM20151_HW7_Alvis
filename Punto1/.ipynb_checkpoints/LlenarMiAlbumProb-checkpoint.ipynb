{
 "cells": [
  {
   "cell_type": "code",
   "execution_count": 46,
   "metadata": {
    "collapsed": true
   },
   "outputs": [],
   "source": [
    "import numpy as np \n",
    "import matplotlib as plt\n",
    "import random \n",
    "import time\n",
    "import pylab as pl"
   ]
  },
  {
   "cell_type": "code",
   "execution_count": 2,
   "metadata": {
    "collapsed": true
   },
   "outputs": [],
   "source": [
    "size = 640 \n",
    "caramelos = np.zeros(size)\n",
    "probabilidades = np.zeros(size)"
   ]
  },
  {
   "cell_type": "code",
   "execution_count": 23,
   "metadata": {
    "collapsed": false
   },
   "outputs": [],
   "source": [
    "for i in range(0,len(caramelos)):\n",
    "\tcaramelos[i] = i\n",
    "\n",
    "for i in range(0,560):\n",
    "\tprobabilidades[i] = 2.0/(3.0*560)\n",
    "for i in range(560,600):\n",
    "\tprobabilidades[i] = 1/(9*40)\n",
    "for i in range(600,640):\n",
    "\tprobabilidades[i] = 2/(9*40)"
   ]
  },
  {
   "cell_type": "code",
   "execution_count": 24,
   "metadata": {
    "collapsed": false
   },
   "outputs": [],
   "source": [
    "def llenarAlbum(caramelos):\n",
    "\tPlataGastada = 0\n",
    "\tmiAlbum= []\n",
    "\trepetidas = []\n",
    "\twhile len(miAlbum) < 640:\n",
    "\t\tPlataGastada = PlataGastada + 400 #El precio por cada caramelo es de 400 COP segun el enunciado\n",
    "\t\titem = np.random.choice(caramelos, p= probabilidades)\n",
    "\t\tif item in miAlbum:\n",
    "\t\t\trepetidas.append(item) #Aqui se guardan las repetidas. Just in case... \n",
    "\t\telse:\n",
    "\t\t\tmiAlbum.append(item)\n",
    "\treturn PlataGastada\n"
   ]
  },
  {
   "cell_type": "code",
   "execution_count": 25,
   "metadata": {
    "collapsed": true
   },
   "outputs": [],
   "source": [
    "def LlenarMAlbums(caramelos, llenarAlbum, numAlbums):\n",
    "\tX = []\n",
    "\ti = 1\n",
    "\twhile i <= numAlbums:\n",
    "\t\tX.append(llenarAlbum(caramelos))\n",
    "\t\ti = i + 1\n",
    "\tmu_m = np.mean(X)\n",
    "\tsigma_m = np.var(X)\n",
    "\treturn  mu_m, sigma_m"
   ]
  },
  {
   "cell_type": "code",
   "execution_count": 26,
   "metadata": {
    "collapsed": false
   },
   "outputs": [
    {
     "name": "stdout",
     "output_type": "stream",
     "text": [
      "[2493800.0, 2120720.0, 2325066.6666666665, 2306830.0, 2251984.0, 2377846.6666666665, 2323497.1428571427, 2396990.0, 2238293.3333333335]\n",
      "[55686337600.0, 152381192000.0, 171688668622.2222, 199720059900.0, 195076038976.0, 169968282488.88889, 142670409012.2449, 140583179900.0, 206420533254.32101]\n",
      "--- El programa se demora en correr 1865.3293540477753 segundos. Tener paciencia por favor.Gracias ---\n"
     ]
    }
   ],
   "source": [
    "E_x= [] #Aqui se van a guardar todos las medias de cada vez que se llena el album\n",
    "Var_x= [] #Se guarda la Varianza de cada vez que se llena el album \n",
    "start_time = time.time()\n",
    "paso= []\n",
    "#Ahora se hace un loop que llena el album 10000 veces, dado a que se quiere que el paso sea de 10 en 10. \n",
    "for i in range(1,1):\n",
    "\tj = i*10\n",
    "\tpaso.append(j)\n",
    "\tE_x.append(LlenarMAlbums(caramelos,llenarAlbum,j)[0])\n",
    "\tVar_x.append(LlenarMAlbums(caramelos,llenarAlbum,j)[1])\n",
    "print(E_x)\n",
    "print(Var_x)\n",
    "print(\"--- El programa se demora en correr %s segundos. Tener paciencia por favor.Gracias ---\" % (time.time() - start_time))"
   ]
  },
  {
   "cell_type": "code",
   "execution_count": 52,
   "metadata": {
    "collapsed": false
   },
   "outputs": [],
   "source": [
    "pl.subplot(2, 1, 1)\n",
    "pl.plot(paso,E_x,'b')\n",
    "pl.title('Promedio y varianza de los precios \\n de llenar el album m veces')\n",
    "pl.ylabel('Promedio')\n",
    "\n",
    "pl.subplot(2, 1, 2)\n",
    "pl.plot(paso,Var_x,'r')\n",
    "pl.xlabel('Numero de veces que se llena el Album (m)')\n",
    "pl.ylabel('Varianza')\n",
    "\n",
    "pl.show()\n"
   ]
  },
  {
   "cell_type": "code",
   "execution_count": 56,
   "metadata": {
    "collapsed": false
   },
   "outputs": [
    {
     "name": "stdout",
     "output_type": "stream",
     "text": [
      "[ 178796.91005291  194283.08994709   10063.57671958    8173.08994709\n",
      "   63019.08994709   62843.57671958    8494.05291005   81986.91005291\n",
      "   76709.75661376]\n",
      "40\n"
     ]
    }
   ],
   "source": [
    "E_x_m = np.mean(E_x)\n",
    "dif = np.abs(E_x - E_x_m)\n",
    "print(dif)\n",
    "mini = np.min(dif)\n",
    "itemindex = np.where(dif==mini)\n",
    "int1= itemindex[0]\n",
    "mbuscado= (int1[0] +1)*10\n",
    "print(mbuscado)\n",
    "nProme = LlenarMAlbums(caramelos,llenarAlbum, mbuscado)\n"
   ]
  },
  {
   "cell_type": "code",
   "execution_count": 63,
   "metadata": {
    "collapsed": false
   },
   "outputs": [],
   "source": [
    "pl.plot(paso, dif, color=\"DarkOliveGreen\", linewidth=2.5, linestyle=\"-\", label=\"Media\")\n",
    "pl.ylabel('Diferencia de las medias')\n",
    "pl.xlabel('Numero de veces que se llena el album (m)')\n",
    "pl.title('Grafica de la diferencia entre los premedios\\n en funcion de los albums llenados')\n",
    "pl.show()"
   ]
  },
  {
   "cell_type": "code",
   "execution_count": null,
   "metadata": {
    "collapsed": true
   },
   "outputs": [],
   "source": []
  }
 ],
 "metadata": {
  "kernelspec": {
   "display_name": "Python 3",
   "language": "python",
   "name": "python3"
  },
  "language_info": {
   "codemirror_mode": {
    "name": "ipython",
    "version": 3
   },
   "file_extension": ".py",
   "mimetype": "text/x-python",
   "name": "python",
   "nbconvert_exporter": "python",
   "pygments_lexer": "ipython3",
   "version": "3.4.3"
  }
 },
 "nbformat": 4,
 "nbformat_minor": 0
}
