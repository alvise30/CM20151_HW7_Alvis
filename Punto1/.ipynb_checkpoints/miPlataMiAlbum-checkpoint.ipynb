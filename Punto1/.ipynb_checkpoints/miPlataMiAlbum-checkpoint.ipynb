{
 "metadata": {
  "name": "",
  "signature": "sha256:49d7696818b92dd58a3ff0ad4cc29ccd7c07483a39bd53b44e77b209115cb5a6"
 },
 "nbformat": 3,
 "nbformat_minor": 0,
 "worksheets": [
  {
   "cells": [
    {
     "cell_type": "code",
     "collapsed": false,
     "input": [
      "%pylab inline"
     ],
     "language": "python",
     "metadata": {},
     "outputs": [
      {
       "output_type": "stream",
       "stream": "stdout",
       "text": [
        "Populating the interactive namespace from numpy and matplotlib\n"
       ]
      }
     ],
     "prompt_number": 1
    },
    {
     "cell_type": "markdown",
     "metadata": {},
     "source": [
      "M\u00e9todos Computacionesles - Taller 7\n",
      "====================================\n",
      "Punto 1\n",
      "---------------\n",
      "Este $notebook$ contiene el desarrollo del punto 1 de la tarea 7 de curso m\u00e9todos computacionales."
     ]
    },
    {
     "cell_type": "markdown",
     "metadata": {},
     "source": [
      "###a)"
     ]
    },
    {
     "cell_type": "markdown",
     "metadata": {},
     "source": [
      "Este punto debe calcular el costo de llenar el alb\u00fam del mundial de 2014.  "
     ]
    },
    {
     "cell_type": "code",
     "collapsed": false,
     "input": [],
     "language": "python",
     "metadata": {},
     "outputs": [],
     "prompt_number": 1
    },
    {
     "cell_type": "markdown",
     "metadata": {},
     "source": [
      "###b)"
     ]
    },
    {
     "cell_type": "markdown",
     "metadata": {},
     "source": [
      "\u00bfCu\u00e1l tama\u00f1o de muestra $m$ se necesita para obtener $95\\%$ de confianza en que $|\u03bc m \u2212 \u03bc| \u2264 10^{-6}$?"
     ]
    },
    {
     "cell_type": "code",
     "collapsed": false,
     "input": [],
     "language": "python",
     "metadata": {},
     "outputs": [],
     "prompt_number": 1
    },
    {
     "cell_type": "markdown",
     "metadata": {},
     "source": [
      "###c)"
     ]
    },
    {
     "cell_type": "markdown",
     "metadata": {},
     "source": [
      "$P_{holograf\u00edcas} = \\frac{1}{3} P_{normales}$  \n",
      "$P_{especiales} = \\frac{1}{6} P_{normales}$  \n",
      "$P = $probabilidad de obtener una l\u00e1mina de cada uno de los tipos.   \n",
      "Responda las preguntas anteriores con estas condiciones."
     ]
    },
    {
     "cell_type": "code",
     "collapsed": false,
     "input": [],
     "language": "python",
     "metadata": {},
     "outputs": [],
     "prompt_number": 1
    },
    {
     "cell_type": "code",
     "collapsed": false,
     "input": [],
     "language": "python",
     "metadata": {},
     "outputs": []
    }
   ],
   "metadata": {}
  }
 ]
}